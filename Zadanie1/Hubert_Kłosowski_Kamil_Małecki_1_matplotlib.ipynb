{
 "cells": [
  {
   "attachments": {},
   "cell_type": "markdown",
   "metadata": {},
   "source": [
    "# Biblioteka Matplotlib"
   ]
  },
  {
   "attachments": {},
   "cell_type": "markdown",
   "metadata": {},
   "source": [
    "Matplotlib to kompleksowa biblioteka służąca to tworzenia statycznych i animowanych wizualizacji w Pythonie. Umożliwia dostosowanie wykresów pod dowolne wymagania i zapisanie ich w wysokiej jakości."
   ]
  },
  {
   "cell_type": "code",
   "metadata": {},
   "source": [
    "import matplotlib.pyplot as plt\n",
    "import numpy as np\n",
    "import pandas as pd\n",
    "from matplotlib.patches import Patch\n",
    "from matplotlib.lines import Line2D\n",
    "from matplotlib.offsetbox import OffsetImage, AnnotationBbox"
   ],
   "outputs": [],
   "execution_count": null
  },
  {
   "metadata": {},
   "cell_type": "code",
   "source": [
    "athlete_events = pd.read_csv('athlete_events.csv', sep=';')\n",
    "\n",
    "athlete_events.info()"
   ],
   "outputs": [],
   "execution_count": null
  },
  {
   "metadata": {},
   "cell_type": "code",
   "source": "athlete_events.describe()",
   "outputs": [],
   "execution_count": null
  },
  {
   "metadata": {},
   "cell_type": "code",
   "source": "athlete_events.head()",
   "outputs": [],
   "execution_count": null
  },
  {
   "attachments": {},
   "cell_type": "markdown",
   "metadata": {},
   "source": [
    "--------------------\n",
    "### Histogram"
   ]
  },
  {
   "attachments": {},
   "cell_type": "markdown",
   "metadata": {},
   "source": [
    "Histogram przedstawia rozłożenie różnych wartości w danej kategorii. Jego wygląd jest podobny do wykresu kolumnowego, jednak jego zastosowanie jest zupełnie inne i wykresy te nie powinny być ze sobą mylone."
   ]
  },
  {
   "attachments": {},
   "cell_type": "markdown",
   "metadata": {},
   "source": [
    "##### ⭐ Zadanie 1: "
   ]
  },
  {
   "attachments": {},
   "cell_type": "markdown",
   "metadata": {},
   "source": [
    "Przygotuj histogram (`hist`) opierając się na danych, które sam wybierzesz w sensowny sposób. Zapoznaj się z parametrami `bins` i `range` oraz dobierz dla nich takie wartości, które wg. Ciebie najlepiej wizualizują dane. Dodatkowo, zapoznaj się z parametrem `density`. Zadbaj o czytelność wykresu (tytuł wykresu oraz podpisy osi). "
   ]
  },
  {
   "cell_type": "code",
   "metadata": {},
   "source": [
    "fig, ax = plt.subplots(figsize=(10, 8))\n",
    "\n",
    "n, bins, patches = ax.hist(athlete_events.Age, color='blue', edgecolor='black', linewidth=1, bins=20, range=(0, 100), alpha=1)\n",
    "for i, patch in enumerate(patches):\n",
    "    if bins[i] <= 18:\n",
    "        patch.set_facecolor('green')\n",
    "    elif 19 <= bins[i] <= 34:\n",
    "        patch.set_facecolor('yellow')\n",
    "    elif 35 <= bins[i] <= 60:\n",
    "        patch.set_facecolor('orange')\n",
    "    else:\n",
    "        patch.set_facecolor('grey')\n",
    "\n",
    "ax.legend(title='Grupy wiekowe', handles=[patches[0], patches[5], patches[10], patches[15]], labels=['niepełnoletni', 'młodzi dorośli', 'dorośli', 'seniorzy'])\n",
    "ax.grid(axis='y')\n",
    "ax.set_xlabel('Wiek sportowca', fontsize=12, labelpad=10)\n",
    "ax.set_ylabel('Liczebność (skala logarytmiczna)', fontsize=12, labelpad=10)\n",
    "ax.set_xticks(range(int(athlete_events.Age.min()), 101, 10))\n",
    "ax.set_yscale('log')\n",
    "ax.set_title('Rozkład wieku wszystkich sportowców', fontsize=14, pad=20)\n",
    "\n",
    "old = plt.imread('age_gaps/old.png')\n",
    "image_box = OffsetImage(old, zoom=0.1)\n",
    "ab = AnnotationBbox(image_box, (85, 100), frameon=False)\n",
    "ax.add_artist(ab)\n",
    "\n",
    "adult = plt.imread('age_gaps/adult.png')\n",
    "image_box = OffsetImage(adult, zoom=0.1)\n",
    "ab = AnnotationBbox(image_box, (45, 3e4), frameon=False)\n",
    "ax.add_artist(ab)\n",
    "\n",
    "young = plt.imread('age_gaps/kids.png')\n",
    "image_box = OffsetImage(young, zoom=0.1)\n",
    "ab = AnnotationBbox(image_box, (8, 3e3), frameon=False)\n",
    "ax.add_artist(ab)\n",
    "\n",
    "plt.show()"
   ],
   "outputs": [],
   "execution_count": null
  },
  {
   "attachments": {},
   "cell_type": "markdown",
   "metadata": {},
   "source": [
    "##### ⭐ Zadanie 2:"
   ]
  },
  {
   "attachments": {},
   "cell_type": "markdown",
   "metadata": {},
   "source": [
    "Przygotuj dwuwymiarowy histogram (`hist2d`) opierając się na danych, które sam wybierzesz w sensowny sposób. Zadbaj o czytelność wykresu (tytuł wykresu, podpisy osi oraz legenda). "
   ]
  },
  {
   "cell_type": "code",
   "metadata": {},
   "source": [
    "weight_height = athlete_events.loc[(athlete_events.Sport == 'Swimming') & athlete_events.Weight.notna() & athlete_events.Height.notna(), ['Weight', 'Height']]\n",
    "\n",
    "plt.hist2d(weight_height.Weight, weight_height.Height, bins=(11, 20), cmap='plasma')\n",
    "plt.colorbar(label='Liczba pływaków')\n",
    "plt.xlabel('Waga pływaka (kg)', labelpad=20)\n",
    "plt.ylabel('Wzrost pływaka (cm)', labelpad=20)\n",
    "plt.grid(True, linestyle=\"--\", alpha=0.5)\n",
    "plt.title('Zależność wagi do wzrostu pływaków', fontsize=14, pad=20)"
   ],
   "outputs": [],
   "execution_count": null
  },
  {
   "attachments": {},
   "cell_type": "markdown",
   "metadata": {},
   "source": [
    "##### ⭐ Zadanie 3:"
   ]
  },
  {
   "attachments": {},
   "cell_type": "markdown",
   "metadata": {},
   "source": [
    "Przygotuj dwuwymiarowy histogram z heksagonami (`hexbin`) opierając się na danych, które sam wybierzesz w sensowny sposób. Zapoznaj się z parametrem `gridsize` oraz dobierz dla niego taką wartość, która wg. Ciebie najlepiej wizualizuje dane. Zadbaj o czytelność wykresu (tytuł wykresu, podpisy osi oraz legenda). "
   ]
  },
  {
   "cell_type": "code",
   "metadata": {},
   "source": [
    "plt.hexbin(weight_height.Weight, weight_height.Height, gridsize=15, cmap='plasma')\n",
    "\n",
    "plt.colorbar(label='Liczba pływaków')\n",
    "plt.xlabel('Waga pływaka (kg)', labelpad=20)\n",
    "plt.ylabel('Wzrost pływaka (cm)', labelpad=20)\n",
    "plt.grid(True, linestyle=\"--\", alpha=0.5)\n",
    "plt.title('Zależność wagi do wzrostu pływaków', fontsize=14, pad=20)"
   ],
   "outputs": [],
   "execution_count": null
  },
  {
   "attachments": {},
   "cell_type": "markdown",
   "metadata": {},
   "source": [
    "-------------------\n",
    "### Wykres słupkowy i kolumnowy (skumulowany) "
   ]
  },
  {
   "attachments": {},
   "cell_type": "markdown",
   "metadata": {},
   "source": [
    "Wykres kolumnowy i wykres słupkowy pokazuje jawne wartości dla pojedynczej lub dla wielu serii danych. Oś z wartościami liczbowymi powinna zaczynać się od 0, żeby uniknąć ukrytego przeskoku, który może dawać mylne złudzenie. Podpisy danych muszą być czytelne, zatem często są one umieszczone prostopadle do kolumn / słupków. <br/><br/>\n",
    "Wykres kolumnowy lub słupkowy skumulowany dodatkowo rozróżnia kolejne serie danych, które są składnikami sumy końcowej dla wyświetlanych wartości. Serie danych najczęściej są rozróżniane kolorem, zatem do ich zrozumienia potrzebna jest legenda. "
   ]
  },
  {
   "attachments": {},
   "cell_type": "markdown",
   "metadata": {},
   "source": [
    "##### ⭐ Zadanie 4:"
   ]
  },
  {
   "attachments": {},
   "cell_type": "markdown",
   "metadata": {},
   "source": "Przygotuj wykres kolumnowy (`bar`) opierając się na danych, które sam wybierzesz w sensowny sposób. Zapoznaj się z parametrem `tick_label` i ustawieniami `xticks` oraz dobierz dla nich takie wartości, które wg. Ciebie najlepiej wizualizują dane. Zadbaj o czytelność wykresu (tytuł wykresu, podpisy osi oraz podpis dla każdej kolumny)."
  },
  {
   "metadata": {},
   "cell_type": "code",
   "source": [
    "median_men_height_ball = athlete_events.loc[\n",
    "    (athlete_events.Sport.str.contains('ball')) &\n",
    "    (athlete_events.Sex == 'M'), ['Height', 'Sport']].groupby(['Sport']).median()\n",
    "polish = ['Siatkówka', 'Piłka ręczna', 'Piłka nożna', 'Siatkówka plażowa', 'Koszykówka', 'Baseball']\n",
    "\n",
    "plt.figure(figsize=(10, 5))\n",
    "plt.bar(\n",
    "    x=median_men_height_ball.index,\n",
    "    height=median_men_height_ball.Height,\n",
    "    tick_label=polish,\n",
    "    width=0.5,\n",
    "    color='blue',\n",
    "    edgecolor='black',\n",
    "    linewidth=1.5,\n",
    "    alpha=1,\n",
    ")\n",
    "\n",
    "for i in range(len(median_men_height_ball.index)):\n",
    "    plt.text(i, median_men_height_ball.Height.iloc[i] + 5, median_men_height_ball.Height.iloc[i], ha='center', va='center')\n",
    "\n",
    "plt.grid(axis='y', alpha=0.9)\n",
    "plt.title('Mediana wzrostu mężczyzn w sportach z piłką', fontsize=14, pad=20)\n",
    "plt.xlabel('Dyscyplina sportowa', labelpad=20)\n",
    "plt.ylabel('Wzrost (cm)', labelpad=20)\n",
    "\n",
    "ax = plt.gca()\n",
    "ax.set_yticks(range(0, 226, 25))\n",
    "ax.set_xticks(range(0, 6))"
   ],
   "outputs": [],
   "execution_count": null
  },
  {
   "attachments": {},
   "cell_type": "markdown",
   "metadata": {},
   "source": [
    "##### ⭐ Zadanie 5:"
   ]
  },
  {
   "attachments": {},
   "cell_type": "markdown",
   "metadata": {},
   "source": [
    "Przygotuj wykres słupkowy (`barh`) opierając się na danych, które sam wybierzesz w sensowny sposób. Zapoznaj się z funkcją `gca()` oraz ustawieniami `set_yticks` i `set_yticklabels`. Wykorzystaj je, żeby wyeliminować niestandardowe odstępy pomiędzy danymi. Zadbaj o czytelność wykresu (tytuł wykresu, podpisy osi oraz podpis dla każdego słupka). "
   ]
  },
  {
   "cell_type": "code",
   "metadata": {},
   "source": [
    "top_10_winter_sports = athlete_events.loc[athlete_events.Season == 'Winter', 'Sport'].value_counts().head(10)\n",
    "polish = ['Saneczkarstwo', 'Łyżwiarstwo szybkie na krótkim torze', 'Łyżwiarstwo figurowe', 'Skoki narciarskie', 'Bobsleje', 'Biathlon', 'Hokej na lodzie', 'Łyżwiarstwo', 'Narciarstwo alpejskie', 'Narciarstwo biegowe']\n",
    "\n",
    "plt.figure(figsize=(10, 5))\n",
    "plt.barh(\n",
    "    y=top_10_winter_sports.index,\n",
    "    width=top_10_winter_sports,\n",
    "    height=0.5,\n",
    "    color='blue',\n",
    "    edgecolor='black',\n",
    "    linewidth=1.5,\n",
    "    alpha=1,\n",
    ")\n",
    "\n",
    "for i in range(len(polish)):\n",
    "    plt.text(top_10_winter_sports.iloc[i] + 300, i, top_10_winter_sports.iloc[i], ha='center', va='center')\n",
    "\n",
    "plt.grid(axis='x', alpha=0.9)\n",
    "plt.title('Dziesięć najpopularniejszych zimowych dyscyplin', fontsize=14, pad=20)\n",
    "plt.ylabel('Nazwa dyscypliny', labelpad=20)\n",
    "plt.xlabel('Liczba sportowców', labelpad=20)\n",
    "\n",
    "ax = plt.gca()\n",
    "ax.set_xticks(range(0, 10001, 1000))\n",
    "ax.set_yticks(range(0, 10))\n",
    "ax.set_yticklabels(el for el in reversed(polish))"
   ],
   "outputs": [],
   "execution_count": null
  },
  {
   "attachments": {},
   "cell_type": "markdown",
   "metadata": {},
   "source": [
    "##### ⭐ Zadanie 6:"
   ]
  },
  {
   "attachments": {},
   "cell_type": "markdown",
   "metadata": {},
   "source": [
    "Przygotuj wykres kolumnowy (`bar`) opierając się na danych, które sam wybierzesz w sensowny sposób. Uwzględnij co najmniej 3 serie danych. Zapoznaj się z parametrem `width` oraz dobierz dla niego właściwą wartość mając na uwadze wizualizację określonej liczby serii danych. Zadbaj o czytelność wykresu (tytuł wykresu, podpisy osi i podpis dla każdej grupy kolumn oraz legenda). "
   ]
  },
  {
   "cell_type": "code",
   "metadata": {},
   "source": [
    "medal_types = ['Gold', 'Silver', 'Bronze']\n",
    "poland = (athlete_events.query(\n",
    "    \"NOC == 'POL' and Medal.notna() and Year >= 1948 and Year <= 1988 and Season == 'Summer'\"\n",
    ")[['Year', 'Medal', 'Event']]\n",
    "          .drop_duplicates()\n",
    "          .groupby(['Year', 'Medal'])\n",
    "          .size()\n",
    "          .unstack(fill_value=0)\n",
    "          .reindex(columns=medal_types, fill_value=0)\n",
    "          .stack()\n",
    "          .reset_index(name='Count')\n",
    "          )\n",
    "\n",
    "locations = athlete_events.query(\"1948 <= Year <= 1988 and Season == 'Summer'\")[['City', 'Year']].drop_duplicates()\n",
    "locations.set_index('Year', inplace=True)\n",
    "locations = locations.groupby(level=0).agg(lambda row: '\\n'.join(map(str, row)))\n",
    "locations = locations.index.astype(str) + '\\n' + locations['City']\n",
    "\n",
    "width = 0.9\n",
    "xticks = [poland.Year.unique() - width, poland.Year.unique(), poland.Year.unique() + width]\n",
    "colors = ['gold', 'silver', 'brown']\n",
    "legend_elements = [\n",
    "    Patch(facecolor=colors[0], edgecolor='black', label='złoto'),\n",
    "    Patch(facecolor=colors[1], edgecolor='black', label='srebro'),\n",
    "    Patch(facecolor=colors[2], edgecolor='black', label='brąz')\n",
    "]\n",
    "\n",
    "plt.figure(figsize=(12, 5))\n",
    "for i, medal in enumerate(medal_types):\n",
    "    plt.bar(\n",
    "        x=xticks[i],\n",
    "        height=poland.loc[(poland.Medal == medal), 'Count'],\n",
    "        width=width,\n",
    "        color=colors[i],\n",
    "        edgecolor='black',\n",
    "        linewidth=1.5,\n",
    "        alpha=1,\n",
    "    )\n",
    "plt.legend(handles=legend_elements, title='Medal', loc='upper left')\n",
    "plt.grid(axis='y', alpha=0.9)\n",
    "plt.xticks(range(1948, 1989, 4), labels=locations)\n",
    "plt.title('Medale Polski w czasie PRL na letnich igrzyskach', fontsize=14)\n",
    "plt.xlabel('Data i miejsce igrzysk')\n",
    "plt.ylabel('Liczba medali')"
   ],
   "outputs": [],
   "execution_count": null
  },
  {
   "attachments": {},
   "cell_type": "markdown",
   "metadata": {},
   "source": [
    "##### ⭐ Zadanie 7:"
   ]
  },
  {
   "attachments": {},
   "cell_type": "markdown",
   "metadata": {},
   "source": [
    "Przygotuj wykres kolumnowy skumulowany (`bar`) opierając się na danych, które sam wybierzesz w sensowny sposób. Uwzględnij co najmniej 3 serie danych. Zapoznaj się z parametrem `bottom` oraz dobierz dla niego właściwą wartość mając na uwadze wizualizację określonej liczby serii danych jako składników sumy. Zadbaj o czytelność wykresu (tytuł wykresu, podpisy osi i podpis dla każdej kolumn oraz legenda). "
   ]
  },
  {
   "cell_type": "code",
   "metadata": {},
   "source": [
    "medal_types = ['Gold', 'Silver', 'Bronze']\n",
    "locations = athlete_events.query(\"1948 <= Year <= 1988 and Season == 'Summer'\")[['City', 'Year']].drop_duplicates()\n",
    "locations.set_index('Year', inplace=True)\n",
    "locations = locations.groupby(level=0).agg(lambda row: '\\n'.join(map(str, row)))\n",
    "locations = locations.index.astype(str) + '\\n' + locations['City']\n",
    "\n",
    "bottom = [0 for _ in range(len(locations) - 1)]\n",
    "width = 0.9\n",
    "colors = ['gold', 'silver', 'brown']\n",
    "legend_elements = [\n",
    "    Patch(facecolor=colors[0], edgecolor='black', label='złoto'),\n",
    "    Patch(facecolor=colors[1], edgecolor='black', label='srebro'),\n",
    "    Patch(facecolor=colors[2], edgecolor='black', label='brąz')\n",
    "]\n",
    "\n",
    "plt.figure(figsize=(12, 5))\n",
    "for i, medal in enumerate(medal_types):\n",
    "    plt.bar(\n",
    "        x=poland.Year.unique(),\n",
    "        height=poland.loc[(poland.Medal == medal), 'Count'],\n",
    "        bottom=bottom,\n",
    "        width=width,\n",
    "        color=colors[i],\n",
    "        edgecolor='black',\n",
    "        linewidth=1.5,\n",
    "        alpha=1,\n",
    "    )\n",
    "    bottom += poland.loc[(poland.Medal == medal), 'Count'].values\n",
    "plt.legend(handles=legend_elements, title='Medal', loc='upper left')\n",
    "plt.grid(axis='y', alpha=0.9)\n",
    "plt.xticks(range(1948, 1989, 4), labels=locations)\n",
    "plt.title('Medale Polski w czasie PRL na letnich igrzyskach', fontsize=14)\n",
    "plt.xlabel('Data i miejsce igrzysk')\n",
    "plt.ylabel('Liczba medali')"
   ],
   "outputs": [],
   "execution_count": null
  },
  {
   "attachments": {},
   "cell_type": "markdown",
   "metadata": {},
   "source": [
    "-------------------\n",
    "### Wykres kołowy"
   ]
  },
  {
   "attachments": {},
   "cell_type": "markdown",
   "metadata": {},
   "source": [
    "Wykres kołowy przedstawia zależność pomiędzy obiektami, które są częścią całości. Każdy wycinek koła reprezentuje część składową obiektu. Dobrym zwyczajem jest umieszczanie wycinków w kolejności rosnącej lub malejącej, a nie losowej."
   ]
  },
  {
   "attachments": {},
   "cell_type": "markdown",
   "metadata": {},
   "source": [
    "##### ⭐ Zadanie 8:"
   ]
  },
  {
   "attachments": {},
   "cell_type": "markdown",
   "metadata": {},
   "source": [
    "Przygotuj wykres kołowy (`pie`) opierając się na danych, które sam wybierzesz w sensowny sposób. Zapoznaj się z parametrami `normalize`, `explode` oraz `autopct`, `pctdistance`, `labels`, `labeldistance` i dobierz dla nich właściwe wartości, które wg. Ciebie najlepiej wizualizują dane. Zadbaj o czytelność wykresu (tytuł wykresu, podpis i wartość procentowa dla każdej części koła). "
   ]
  },
  {
   "cell_type": "code",
   "metadata": {},
   "source": [
    "counts = athlete_events.loc[athlete_events.Season == 'Summer', 'Sex'].value_counts()\n",
    "counts['mężczyźni'] = counts.pop('M')\n",
    "counts['kobiety'] = counts.pop('F')\n",
    "\n",
    "plt.pie(\n",
    "    x=counts,\n",
    "    explode=[0.05, 0.05],\n",
    "    labels=counts.index,\n",
    "    colors=['grey', 'purple'],\n",
    "    autopct='%1.1f%%',\n",
    "    textprops={'fontsize': 14},\n",
    "    radius=1,\n",
    "    startangle=90,\n",
    "    labeldistance=1.2,\n",
    "    wedgeprops={'edgecolor': 'black', 'linewidth': 2},\n",
    "    normalize=True,\n",
    "    pctdistance=0.5,\n",
    "    shadow=True,\n",
    ")\n",
    "plt.title('Liczebność kobiet i mężczyzn w igrzyskach letnich', fontsize=14)\n",
    "plt.tight_layout()"
   ],
   "outputs": [],
   "execution_count": null
  },
  {
   "attachments": {},
   "cell_type": "markdown",
   "metadata": {},
   "source": "##### ⭐ Zadanie 9:"
  },
  {
   "attachments": {},
   "cell_type": "markdown",
   "metadata": {},
   "source": [
    "Przygotuj wykres kołowy (`pie`) opierając się na danych, które sam wybierzesz w sensowny sposób. Zastosuj co najmniej 3 serie danych i podziel te informacje na osobne podwykresy (`subplot`) jednego obrazu. Zapoznaj się z obiektami `figure` i `axes`. Zadbaj o czytelność wykresu (tytuł obrazu i każdego wykresu, podpis i wartość procentowa dla każdej części koła). "
   ]
  },
  {
   "cell_type": "code",
   "metadata": {},
   "source": [
    "last_four_summer_olympics = athlete_events.loc[(athlete_events.Year > 2000) & (athlete_events.Season == 'Summer'), ['Year', 'Sex']].groupby(['Year', 'Sex']).size().reset_index(name='Count')\n",
    "\n",
    "fig, ax = plt.subplots(nrows=2, ncols=2, figsize=(14, 6))\n",
    "titles = ['Atenach 2004', 'Pekinie 2008', 'Londynie 2012', 'Rio 2016']\n",
    "legend_elements = [\n",
    "    Patch(facecolor='purple', edgecolor='black', label='kobiety'),\n",
    "    Patch(facecolor='grey', edgecolor='black', label='mężczyźni')\n",
    "]\n",
    "fig.legend(title='Płeć', handles=legend_elements, loc='upper center', bbox_to_anchor=(0.5, 0.6), ncol=1, fontsize=14, title_fontsize=14)\n",
    "\n",
    "for i in range(4):\n",
    "    x, y = divmod(i, 2)\n",
    "    ax[x, y].pie(\n",
    "        x=last_four_summer_olympics.loc[last_four_summer_olympics.Year == 2004 + i * 4, 'Count'],\n",
    "        explode=[0.05, 0.05],\n",
    "        colors=['purple', 'grey'],\n",
    "        autopct='%1.1f%%',\n",
    "        textprops={'fontsize': 11},\n",
    "        radius=1,\n",
    "        startangle=90,\n",
    "        wedgeprops={'edgecolor': 'black', 'linewidth': 2},\n",
    "        normalize=True,\n",
    "        pctdistance=0.5,\n",
    "        shadow=True,\n",
    "    )\n",
    "    ax[x, y].set_title(f'Podział płci podczas igrzysk w {titles[i]}', fontsize=11)\n",
    "\n",
    "plt.suptitle('Podział płci na czterech letnich igrzyskach 2004–2016', fontsize=14)\n",
    "plt.subplots_adjust(wspace=0.3, hspace=0.2, top=0.85)"
   ],
   "outputs": [],
   "execution_count": null
  },
  {
   "cell_type": "markdown",
   "metadata": {},
   "source": [
    "--------------------\n",
    "### Wykres liniowy"
   ]
  },
  {
   "cell_type": "markdown",
   "metadata": {},
   "source": [
    "Wykres liniowy jest używany do wyświetlania ilościowych wartości w ciągłym okresie czasu. Idealnie sprawdza się do serii czasowej połączonej krzywą z co najmniej 10 danymi w każdej serii. Możliwe jest zaznaczenie kolejnych punktów na wykresie za pomocą znaczników. Co więcej, możliwe jest także wyłączenie samej linii, dzięki czemu tworzony jest wykres punktowy."
   ]
  },
  {
   "cell_type": "markdown",
   "metadata": {},
   "source": [
    "##### ⭐ Zadanie 10: "
   ]
  },
  {
   "cell_type": "markdown",
   "metadata": {},
   "source": [
    "Przygotuj wykres liniowy (`plot`) opierając się na danych, które sam wybierzesz w sensowny sposób. Zapoznaj się z funkcją `gca()` oraz ustawieniami `xaxis.grid` i `yaxis.grid`. Wykorzystaj je, żeby narysować linie pomocnicze dla wartości na wykresie. Zadbaj o czytelność wykresu (tytuł wykresu i podpisy osi). "
   ]
  },
  {
   "cell_type": "code",
   "metadata": {},
   "source": [
    "num_of_events_summer = athlete_events.loc[athlete_events.Season == 'Summer', ['Event', 'Year', 'City']].drop_duplicates().groupby(['Year', 'City']).count().reset_index()\n",
    "num_of_events_summer.rename(columns={'Event': 'Count'}, inplace=True)\n",
    "\n",
    "fig, ax = plt.subplots(figsize=(14, 6))\n",
    "\n",
    "plt.plot(\n",
    "    num_of_events_summer.Year,\n",
    "    num_of_events_summer.Count,\n",
    "    marker='o',\n",
    "    markersize=8,\n",
    "    linewidth=2,\n",
    "    color='blue',\n",
    "    label='Liczba konkurencji'\n",
    ")\n",
    "\n",
    "for i, row in num_of_events_summer.iterrows():\n",
    "    if row['Year'] % 20 == 0 or row['Year'] == num_of_events_summer.Year.max():\n",
    "        ax.annotate(f\"{row['City']}\\n({int(row['Count'])})\",\n",
    "                   (row['Year'], row['Count']),\n",
    "                   xytext=(0, 10),\n",
    "                   textcoords='offset points',\n",
    "                   ha='center',\n",
    "                   fontsize=10,\n",
    "                   fontweight='bold')\n",
    "\n",
    "ax.axvspan(1914, 1918, alpha=0.2, color='gray', label='I Wojna Światowa')\n",
    "ax.axvspan(1939, 1945, alpha=0.2, color='gray', label='II Wojna Światowa')\n",
    "\n",
    "ax.xaxis.grid(True, which='major', linestyle='-', linewidth=0.8, color='#cccccc')\n",
    "ax.yaxis.grid(True, which='major', linestyle='-', linewidth=0.8, color='#cccccc')\n",
    "\n",
    "ax.yaxis.set_major_locator(plt.MultipleLocator(50))\n",
    "ax.yaxis.set_minor_locator(plt.MultipleLocator(25))\n",
    "ax.xaxis.set_major_locator(plt.MultipleLocator(20))\n",
    "ax.xaxis.set_minor_locator(plt.MultipleLocator(4))\n",
    "\n",
    "plt.title('Ewolucja liczby konkurencji w letnich igrzyskach olimpijskich', fontsize=14, pad=20)\n",
    "plt.xlabel('Rok', fontsize=12, labelpad=10)\n",
    "plt.ylabel('Liczba konkurencji', fontsize=12, labelpad=10)\n",
    "\n",
    "legend_elements = [\n",
    "    Line2D([0], [0], marker='o', color='blue', label='Liczba konkurencji', markersize=8, linewidth=2),\n",
    "    Patch(facecolor='gray', edgecolor='gray', alpha=0.2, label='I i II Wojna Światowa'),\n",
    "    Line2D([0], [0], color='red', lw=1, label='Igrzyska odwołane (X)', linestyle='--')\n",
    "]\n",
    "\n",
    "plt.legend(handles=legend_elements, loc='upper left')\n",
    "\n",
    "cancelled_years = [1916, 1940, 1944]\n",
    "for year in cancelled_years:\n",
    "    plt.axvline(x=year, color='red', linestyle='--', alpha=0.7)\n",
    "    \n",
    "ww = plt.imread('world-war.png')\n",
    "image_box = OffsetImage(ww, zoom=0.1)\n",
    "ab = AnnotationBbox(image_box, (1942, 225), frameon=False)\n",
    "ax.add_artist(ab)\n",
    "\n",
    "ww = plt.imread('world-war.png')\n",
    "image_box = OffsetImage(ww, zoom=0.1)\n",
    "ab = AnnotationBbox(image_box, (1916, 225), frameon=False)\n",
    "ax.add_artist(ab)\n",
    "\n",
    "plt.ylim(bottom=-20)\n",
    "\n",
    "plt.tight_layout()"
   ],
   "outputs": [],
   "execution_count": null
  },
  {
   "cell_type": "markdown",
   "metadata": {},
   "source": [
    "##### ⭐ Zadanie 11:"
   ]
  },
  {
   "cell_type": "markdown",
   "metadata": {},
   "source": [
    "Przygotuj na jednym obiekcie `axes` wykres liniowy (`plot`) i wykres kolumnowy (`bar`) opierając się na danych, które sam wybierzesz w sensowny sposób. Zapoznaj się z parametrami `color`, `marker`, `markersize`, `linestyle` i `linewidth` oraz dobierz dla nich niestandardowe wartości. Zadbaj o czytelność wykresu (tytuł wykresu i podpisy osi). "
   ]
  },
  {
   "metadata": {},
   "cell_type": "code",
   "source": [
    "medals = (athlete_events.query(\n",
    "    \"NOC == 'ESP' and Medal.notna() and Year >= 1988 and Season == 'Summer'\"\n",
    ")[['Year', 'Medal', 'Event']]\n",
    "          .drop_duplicates()\n",
    "          .groupby(['Year', 'Medal'])\n",
    "          .size()\n",
    "          .reset_index(name='Count')\n",
    "          ).groupby(['Year']).sum().drop(columns='Medal')\n",
    "\n",
    "age = athlete_events.query(\"NOC == 'ESP' and Medal.notna() and Year >= 1988 and Season == 'Summer'\")[['Year', 'Age']].groupby(['Year']).mean()\n",
    "\n",
    "fig, ax1 = plt.subplots()\n",
    "\n",
    "ax1.plot(\n",
    "    age.index,\n",
    "    age,\n",
    "    marker='o',\n",
    "    markersize=10,\n",
    "    linewidth=2,\n",
    "    color='red'\n",
    ")\n",
    "ax1.tick_params(axis='y', labelcolor='red')\n",
    "ax1.set_ylabel('Średni wiek medalistów', fontsize=12, labelpad=10, color='red')\n",
    "ax1.set_xticks(range(1988, 2017, 4))\n",
    "ax1.set_title('Zależność między średnim wiekiem medalistów a liczbą medali zdobytych przez Hiszpanię', fontsize=14, pad=20)\n",
    "ax1.set_xlabel('Rok igrzysk', fontsize=12, labelpad=10)\n",
    "ax1.grid(axis='y')\n",
    "\n",
    "ax2 = ax1.twinx()\n",
    "ax2.bar(\n",
    "    x=medals.index,\n",
    "    height=medals['Count'],\n",
    "    facecolor='blue',\n",
    "    alpha=0.5,\n",
    "    linewidth=1,\n",
    ")\n",
    "ax2.tick_params(axis='y', labelcolor='blue')\n",
    "ax2.set_ylabel('Liczba medali', fontsize=12, labelpad=10, color='blue')\n",
    "ax2.set_yticks(range(0, 26, 5))"
   ],
   "outputs": [],
   "execution_count": null
  },
  {
   "cell_type": "markdown",
   "metadata": {},
   "source": [
    "##### ⭐ Zadanie 12:"
   ]
  },
  {
   "cell_type": "markdown",
   "metadata": {},
   "source": [
    "Przedstaw na jednym obiekcie `axes` wykres liniowy (`plot`) i wykres zamalowujący przestrzeń pomiędzy dwoma horyzontalnymi krzywymi (`fill_between`). Wykorzystaj dane, które sam wybierzesz w sensowny sposób. Na pierwszym wykresie przedstaw średnią wartość, a na drugim wykresie pokaż minimum i maksimum. Zadbaj o czytelność wykresu (tytuł wykresu i podpisy osi). "
   ]
  },
  {
   "cell_type": "code",
   "metadata": {},
   "source": [
    "mean_height_volleyball = athlete_events.query(\"Sport == 'Volleyball' and Sex == 'M'\")[['Year', 'Height']].groupby('Year').agg(['min', 'mean', 'max']).reset_index()\n",
    "mean_height_volleyball.rename(columns={'': 'Year'}, inplace=True)\n",
    "mean_height_volleyball = mean_height_volleyball.droplevel(0, axis=1)\n",
    "\n",
    "fig, ax = plt.subplots(figsize=(14, 6))\n",
    "\n",
    "plt.plot(\n",
    "    mean_height_volleyball.Year,\n",
    "    mean_height_volleyball['mean'],\n",
    "    marker='$\\U0001F60A$',\n",
    "    markersize=20,\n",
    "    linewidth=2,\n",
    "    color='orange'\n",
    ")\n",
    "plt.fill_between(\n",
    "    x=mean_height_volleyball.Year,\n",
    "    y1=mean_height_volleyball['min'],\n",
    "    y2=mean_height_volleyball['max'],\n",
    "    color='skyblue',\n",
    "    alpha=0.2\n",
    ")\n",
    "\n",
    "plt.axvline(x=1996, color='red', linestyle='--')\n",
    "plt.axvline(x=1964, color='green', linestyle='--')\n",
    "\n",
    "legend_elements = [\n",
    "    Line2D([0], [0], color='red', lw=1, label=f'Najwyższy średni wzrost: {mean_height_volleyball['mean'].max():.2f} cm', linestyle='--'),\n",
    "    Line2D([0], [0], color='green', lw=1, label=f'Najniższy średni wzrost: {mean_height_volleyball['mean'].min():.2f} cm', linestyle='--'),\n",
    "    Patch(facecolor='skyblue', alpha=0.2, label='Zakres wzrostu'),\n",
    "    Line2D([0], [0], color='orange', lw=1, label='Średni wzrost siatkarzy', linestyle='-', marker='$\\U0001F60A$', markersize=10),\n",
    "]\n",
    "\n",
    "plt.title('Zmiana wzrostu siatkarzy na kolejnych letnich igrzyskach', fontsize=15, pad=20)\n",
    "plt.xlabel('Rok igrzysk', fontsize=12, labelpad=20)\n",
    "plt.ylabel('Wzrost (cm)', fontsize=12, labelpad=20)\n",
    "plt.legend(title='Legenda', loc='upper left', handles=legend_elements)\n",
    "plt.xticks(range(1964, 2017, 8))\n",
    "plt.grid(True, linestyle='--', alpha=0.7)"
   ],
   "outputs": [],
   "execution_count": null
  },
  {
   "cell_type": "markdown",
   "metadata": {},
   "source": [
    "--------------------\n",
    "### Wykres bąbelkowy i punktowy"
   ]
  },
  {
   "cell_type": "markdown",
   "metadata": {},
   "source": [
    "Wykres bąbelkowy rozszerza wykres punktowy o trzecią wartość dla danej serii danych, która jest prezentowana za pomocą rozmiaru znacznika. Przy rosnącej\n",
    "liczbie zależności, konieczne jest umieszczenie dokładnego opisu wykresu razem z legendą."
   ]
  },
  {
   "cell_type": "markdown",
   "metadata": {},
   "source": [
    "##### ⭐ Zadanie 13:"
   ]
  },
  {
   "cell_type": "markdown",
   "metadata": {},
   "source": [
    "Przygotuj wykres bąbelkowy (`scatter`) opierając się na danych, które sam wybierzesz w sensowny sposób. Wykorzystaj rozmiary i kolory markerów do zaprezentowania większej liczby informacji. Zadbaj o czytelność wykresu (tytuł wykresu, podpisy osi i opis skali koloru). "
   ]
  },
  {
   "cell_type": "code",
   "metadata": {},
   "source": "# tutaj wpisz swoje rozwiązanie",
   "outputs": [],
   "execution_count": null
  },
  {
   "cell_type": "markdown",
   "metadata": {},
   "source": [
    "##### ⭐ Zadanie 14:"
   ]
  },
  {
   "cell_type": "markdown",
   "metadata": {},
   "source": [
    "Czy wszystkie informacje z zadania 13 można przedstawić za pomocą wykresu punktowego stworzonego jako wykres liniowy (`plot`) bez linii? Jeżeli tak, wykonaj taki wykres. Jeżeli nie, zdecyduj, które dane są najmniej istotne i zrezygnuj z nich przy wykonywaniu takiego wykresu. Zadbaj o czytelność wykresu (tytuł wykresu i podpisy osi). Do swojego rozwiązania dodaj dowolną animację."
   ]
  },
  {
   "cell_type": "code",
   "metadata": {},
   "source": [
    "# tutaj wpisz swoje rozwiązanie"
   ],
   "outputs": [],
   "execution_count": null
  },
  {
   "cell_type": "markdown",
   "metadata": {},
   "source": [
    "-------------------\n",
    "### Mapa ciepła"
   ]
  },
  {
   "cell_type": "markdown",
   "metadata": {},
   "source": [
    "Mapa ciepła to wizualizacja wielowymiarowa, która wykorzystywana jest do znajdowania wzorców w danych. Dwie kategorie danych umieszczone są w wierszach i kolumnach. Wartości zawarte w macierzy są reprezentowane przez kolory lub nasycenie kolorów, dzięki czemu jawnie odzwierciedlają zależności pomiędzy kategoriami. "
   ]
  },
  {
   "cell_type": "markdown",
   "metadata": {},
   "source": [
    "##### ⭐ Zadanie 15:"
   ]
  },
  {
   "cell_type": "markdown",
   "metadata": {},
   "source": [
    "Przygotuj mapę ciepła (`imshow`, `pcolormesh`) opierając się na danych, które sam wybierzesz w sensowny sposób. Zapoznaj się z dwiema metodami rysowania map ciepła i zdecyduj, która będzie lepsza w twoim rozwiązaniu. Zadbaj o czytelność wykresu (tytuł wykresu, podpisy osi i opis skali koloru). "
   ]
  },
  {
   "cell_type": "code",
   "metadata": {},
   "source": [
    "from sklearn.preprocessing import LabelEncoder\n",
    "\n",
    "\n",
    "data = athlete_events.copy(deep=True)\n",
    "data.drop(columns=['ID', 'Name', 'Team', 'Games', 'Event'], inplace=True)\n",
    "for col in data.select_dtypes(include=['object']).columns:\n",
    "    le = LabelEncoder()\n",
    "    data[col] = le.fit_transform(data[col])\n",
    "\n",
    "correlation_mat = data.corr(numeric_only=True)\n",
    "plt.imshow(\n",
    "    X=correlation_mat,\n",
    "    cmap='Greys',\n",
    "    vmax=1,\n",
    "    vmin=-1,\n",
    ")\n",
    "plt.colorbar(label='Wartość korelacji')\n",
    "plt.xticks(ticks=np.arange(len(correlation_mat.columns)), labels=correlation_mat.columns, rotation=45)\n",
    "plt.yticks(ticks=np.arange(len(correlation_mat.columns)), labels=correlation_mat.columns)\n",
    "plt.title('Macierz korelacji dla zbioru sportowców', fontsize=14, pad=20)\n",
    "\n",
    "for i in range(len(correlation_mat.columns)):\n",
    "    for j in range(len(correlation_mat.columns)):\n",
    "        text = f'{correlation_mat.iloc[i, j]:.2f}'\n",
    "        plt.text(j, i, text, ha='center', va='center', color='black', fontsize=10)"
   ],
   "outputs": [],
   "execution_count": null
  },
  {
   "cell_type": "markdown",
   "metadata": {},
   "source": [
    "-------------------\n",
    "### Wykres radarowy"
   ]
  },
  {
   "cell_type": "markdown",
   "metadata": {},
   "source": [
    "Wykres radarowy przedstawia wiele zmiennych o tej samej skali w formie pojedynczego wielokąta zamkniętego umieszczonego na okręgu. Wierzchołki figury są ułożone zgodnie z wartościami dla kolejnych kategorii."
   ]
  },
  {
   "cell_type": "markdown",
   "metadata": {},
   "source": [
    "##### ⭐ Zadanie 16:"
   ]
  },
  {
   "cell_type": "markdown",
   "metadata": {},
   "source": [
    "Przygotuj wykres radarowy (`polar`) opierając się na danych, które sam wybierzesz w sensowny sposób. Zadbaj o czytelność wykresu (tytuł wykresu i podpisy osi). "
   ]
  },
  {
   "cell_type": "code",
   "metadata": {},
   "source": [
    "# tutaj wpisz swoje rozwiązanie"
   ],
   "outputs": [],
   "execution_count": null
  }
 ],
 "metadata": {
  "kernelspec": {
   "display_name": "base",
   "language": "python",
   "name": "python3"
  },
  "language_info": {
   "codemirror_mode": {
    "name": "ipython",
    "version": 3
   },
   "file_extension": ".py",
   "mimetype": "text/x-python",
   "name": "python",
   "nbconvert_exporter": "python",
   "pygments_lexer": "ipython3",
   "version": "3.10.9"
  },
  "orig_nbformat": 4,
  "vscode": {
   "interpreter": {
    "hash": "abb5ff44d1adcbfa6557a3b916d3f2441d0d0bdfe9fde7d35b60287fdececf3d"
   }
  }
 },
 "nbformat": 4,
 "nbformat_minor": 2
}
