{
 "cells": [
  {
   "attachments": {},
   "cell_type": "markdown",
   "metadata": {},
   "source": [
    "# Biblioteka Matplotlib"
   ]
  },
  {
   "attachments": {},
   "cell_type": "markdown",
   "metadata": {},
   "source": [
    "Matplotlib to kompleksowa biblioteka służąca to tworzenia statycznych i animowanych wizualizacji w Pythonie. Umożliwia dostosowanie wykresów pod dowolne wymagania i zapisanie ich w wysokiej jakości."
   ]
  },
  {
   "cell_type": "code",
   "metadata": {},
   "source": [
    "import matplotlib.pyplot as plt"
   ],
   "outputs": [],
   "execution_count": null
  },
  {
   "cell_type": "code",
   "metadata": {},
   "source": [
    "import numpy as np\n",
    "import pandas as pd\n",
    "\n",
    "titanic = pd.read_csv('titanic.csv')\n",
    "zindi_air_qo = pd.read_csv('Train.csv')\n",
    "zindi_air_qo.date = pd.to_datetime(zindi_air_qo.date)\n",
    "\n",
    "titanic.info()"
   ],
   "outputs": [],
   "execution_count": null
  },
  {
   "metadata": {},
   "cell_type": "code",
   "source": "zindi_air_qo.info()",
   "outputs": [],
   "execution_count": null
  },
  {
   "attachments": {},
   "cell_type": "markdown",
   "metadata": {},
   "source": [
    "--------------------\n",
    "### Histogram"
   ]
  },
  {
   "attachments": {},
   "cell_type": "markdown",
   "metadata": {},
   "source": [
    "Histogram przedstawia rozłożenie różnych wartości w danej kategorii. Jego wygląd jest podobny do wykresu kolumnowego, jednak jego zastosowanie jest zupełnie inne i wykresy te nie powinny być ze sobą mylone."
   ]
  },
  {
   "attachments": {},
   "cell_type": "markdown",
   "metadata": {},
   "source": [
    "##### ⭐ Zadanie 1: "
   ]
  },
  {
   "attachments": {},
   "cell_type": "markdown",
   "metadata": {},
   "source": [
    "Przygotuj histogram (`hist`) opierając się na danych, które sam wybierzesz w sensowny sposób. Zapoznaj się z parametrami `bins` i `range` oraz dobierz dla nich takie wartości, które wg. Ciebie najlepiej wizualizują dane. Dodatkowo, zapoznaj się z parametrem `density`. Zadbaj o czytelność wykresu (tytuł wykresu oraz podpisy osi). "
   ]
  },
  {
   "cell_type": "code",
   "metadata": {},
   "source": [
    "n, bins, patches = plt.hist(titanic.Age, color='blue', edgecolor='black', linewidth=1, bins=20, range=(0, 100), alpha=1)\n",
    "for i, patch in enumerate(patches):\n",
    "    if bins[i] <= 18:\n",
    "        patch.set_facecolor('green')\n",
    "    elif 19 <= bins[i] <= 34:\n",
    "        patch.set_facecolor('yellow')\n",
    "    elif 35 <= bins[i] <= 60:\n",
    "        patch.set_facecolor('orange')\n",
    "    else:\n",
    "        patch.set_facecolor('grey')\n",
    "\n",
    "plt.legend(title='Grupy wiekowe', handles=[patches[0], patches[5], patches[10], patches[15]], labels=['niepełnoletni', 'młodzi dorośli', 'dorośli', 'seniorzy'])\n",
    "plt.grid(axis='y')\n",
    "plt.xlabel('Wiek pasażera')\n",
    "plt.ylabel('Liczebność')\n",
    "plt.xticks(range(0, 101, 10))\n",
    "plt.yticks(range(0, 121, 10))\n",
    "plt.title('Rozkład wieku pasażerów', fontsize=14)\n",
    "plt.show()"
   ],
   "outputs": [],
   "execution_count": null
  },
  {
   "attachments": {},
   "cell_type": "markdown",
   "metadata": {},
   "source": [
    "##### ⭐ Zadanie 2:"
   ]
  },
  {
   "attachments": {},
   "cell_type": "markdown",
   "metadata": {},
   "source": [
    "Przygotuj dwuwymiarowy histogram (`hist2d`) opierając się na danych, które sam wybierzesz w sensowny sposób. Zadbaj o czytelność wykresu (tytuł wykresu, podpisy osi oraz legenda). "
   ]
  },
  {
   "cell_type": "code",
   "metadata": {},
   "source": [
    "from matplotlib.colors import LogNorm\n",
    "\n",
    "\n",
    "fare_age = titanic.loc[titanic.Age.notna() & titanic.Fare.notna(), ['Fare', 'Age']]\n",
    "\n",
    "plt.hist2d(fare_age.Age, fare_age.Fare, bins=(8, 20), cmap='plasma', norm=LogNorm())\n",
    "plt.colorbar(label='Liczba pasażerów')\n",
    "plt.xlabel('Wiek pasażera')\n",
    "plt.ylabel('Cena biletu (w dolarach)')\n",
    "plt.yticks(range(0, 511, 50))\n",
    "plt.grid(True, linestyle=\"--\", alpha=0.5)\n",
    "plt.title('Zależność wieku i ceny biletu na Titanicu', fontsize=14)"
   ],
   "outputs": [],
   "execution_count": null
  },
  {
   "attachments": {},
   "cell_type": "markdown",
   "metadata": {},
   "source": [
    "##### ⭐ Zadanie 3:"
   ]
  },
  {
   "attachments": {},
   "cell_type": "markdown",
   "metadata": {},
   "source": [
    "Przygotuj dwuwymiarowy histogram z heksagonami (`hexbin`) opierając się na danych, które sam wybierzesz w sensowny sposób. Zapoznaj się z parametrem `gridsize` oraz dobierz dla niego taką wartość, która wg. Ciebie najlepiej wizualizuje dane. Zadbaj o czytelność wykresu (tytuł wykresu, podpisy osi oraz legenda). "
   ]
  },
  {
   "cell_type": "code",
   "metadata": {},
   "source": [
    "plt.hexbin(fare_age.Age, fare_age.Fare, gridsize=15, cmap='plasma', norm=LogNorm())\n",
    "\n",
    "plt.colorbar(label='Liczba pasażerów')\n",
    "plt.xlabel('Wiek pasażera')\n",
    "plt.ylabel('Cena biletu (w dolarach)')\n",
    "plt.yticks(range(0, 511, 50))\n",
    "plt.grid(True, linestyle=\"--\", alpha=0.5)\n",
    "plt.title('Zależność wieku i ceny biletu na Titanicu')"
   ],
   "outputs": [],
   "execution_count": null
  },
  {
   "attachments": {},
   "cell_type": "markdown",
   "metadata": {},
   "source": [
    "-------------------\n",
    "### Wykres słupkowy i kolumnowy (skumulowany) "
   ]
  },
  {
   "attachments": {},
   "cell_type": "markdown",
   "metadata": {},
   "source": [
    "Wykres kolumnowy i wykres słupkowy pokazuje jawne wartości dla pojedynczej lub dla wielu serii danych. Oś z wartościami liczbowymi powinna zaczynać się od 0, żeby uniknąć ukrytego przeskoku, który może dawać mylne złudzenie. Podpisy danych muszą być czytelne, zatem często są one umieszczone prostopadle do kolumn / słupków. <br/><br/>\n",
    "Wykres kolumnowy lub słupkowy skumulowany dodatkowo rozróżnia kolejne serie danych, które są składnikami sumy końcowej dla wyświetlanych wartości. Serie danych najczęściej są rozróżniane kolorem, zatem do ich zrozumienia potrzebna jest legenda. "
   ]
  },
  {
   "attachments": {},
   "cell_type": "markdown",
   "metadata": {},
   "source": [
    "##### ⭐ Zadanie 4:"
   ]
  },
  {
   "attachments": {},
   "cell_type": "markdown",
   "metadata": {},
   "source": [
    "Przygotuj wykres kolumnowy (`bar`) opierając się na danych, które sam wybierzesz w sensowny sposób. Zapoznaj się z parametrem `tick_label` i ustawieniami `xticks` oraz dobierz dla nich takie wartości, które wg. Ciebie najlepiej wizualizują dane. Zadbaj o czytelność wykresu (tytuł wykresu, podpisy osi oraz podpis dla każdej kolumny). "
   ]
  },
  {
   "metadata": {},
   "cell_type": "code",
   "source": [
    "from matplotlib.patches import Patch\n",
    "\n",
    "\n",
    "avg_hour_pm2_5 = zindi_air_qo[['hour', 'pm2_5']].groupby('hour').mean()\n",
    "max_min_legend = [\n",
    "    Patch(facecolor='red', edgecolor='black', label='max'), \n",
    "    Patch(facecolor='green', edgecolor='black', label='min')\n",
    "]\n",
    "\n",
    "plt.bar(\n",
    "    x=avg_hour_pm2_5.index, \n",
    "    height=avg_hour_pm2_5.pm2_5,\n",
    "    width=0.5,\n",
    "    tick_label=[f'{i}\\u2070\\u2070' for i in range(10, 15)],\n",
    "    color=['#ADD8E6', 'green', '#ADD8E6', 'red', '#ADD8E6'],\n",
    "    edgecolor='black',\n",
    "    linewidth=1.5,\n",
    "    alpha=1,\n",
    ")\n",
    "plt.grid(axis='y', alpha=0.9)\n",
    "plt.title('Średnia wartość PM2.5 w poszczególnych godzinach', fontsize=14)\n",
    "plt.xlabel('Godzina')\n",
    "plt.yticks(range(0, 51, 5))\n",
    "plt.ylabel('Wartość stężenia PM2.5 (\\u03BCm)')\n",
    "plt.legend(title='Wartości:', handles=max_min_legend, loc='upper left')"
   ],
   "outputs": [],
   "execution_count": null
  },
  {
   "attachments": {},
   "cell_type": "markdown",
   "metadata": {},
   "source": [
    "##### ⭐ Zadanie 5:"
   ]
  },
  {
   "attachments": {},
   "cell_type": "markdown",
   "metadata": {},
   "source": [
    "Przygotuj wykres słupkowy (`barh`) opierając się na danych, które sam wybierzesz w sensowny sposób. Zapoznaj się z funkcją `gca()` oraz ustawieniami `set_yticks` i `set_yticklabels`. Wykorzystaj je, żeby wyeliminować niestandardowe odstępy pomiędzy danymi. Zadbaj o czytelność wykresu (tytuł wykresu, podpisy osi oraz podpis dla każdego słupka). "
   ]
  },
  {
   "cell_type": "code",
   "metadata": {},
   "source": [
    "plt.barh(\n",
    "    y=avg_hour_pm2_5.index, \n",
    "    width=avg_hour_pm2_5.pm2_5,\n",
    "    height=0.5,\n",
    "    color=['#ADD8E6', 'green', '#ADD8E6', 'red', '#ADD8E6'],\n",
    "    edgecolor='black',\n",
    "    linewidth=1.5,\n",
    "    alpha=1,\n",
    ")\n",
    "plt.grid(axis='x', alpha=0.9)\n",
    "plt.title('Średnia wartość PM2.5 w poszczególnych godzinach', fontsize=14)\n",
    "plt.ylabel('Godzina')\n",
    "plt.xlabel('Wartość stężenia PM2.5 (\\u03BCm)')\n",
    "plt.legend(title='Wartości:', handles=max_min_legend, loc='lower right')\n",
    "\n",
    "ax = plt.gca()\n",
    "ax.set_yticks(range(10, 15))\n",
    "ax.set_xticks(range(0, 51, 5))\n",
    "ax.set_yticklabels([f'{i}\\u2070\\u2070' for i in range(10, 15)])"
   ],
   "outputs": [],
   "execution_count": null
  },
  {
   "attachments": {},
   "cell_type": "markdown",
   "metadata": {},
   "source": [
    "##### ⭐ Zadanie 6:"
   ]
  },
  {
   "attachments": {},
   "cell_type": "markdown",
   "metadata": {},
   "source": [
    "Przygotuj wykres kolumnowy (`bar`) opierając się na danych, które sam wybierzesz w sensowny sposób. Uwzględnij co najmniej 3 serie danych. Zapoznaj się z parametrem `width` oraz dobierz dla niego właściwą wartość mając na uwadze wizualizację określonej liczby serii danych. Zadbaj o czytelność wykresu (tytuł wykresu, podpisy osi i podpis dla każdej grupy kolumn oraz legenda). "
   ]
  },
  {
   "cell_type": "code",
   "metadata": {},
   "source": [
    "zindi_air_qo['dayofweek'] = zindi_air_qo['date'].dt.dayofweek\n",
    "avg_dayofweek_city_pm2_5 = zindi_air_qo[['dayofweek', 'city', 'pm2_5']].groupby(['dayofweek', 'city']).mean()\n",
    "avg_dayofweek_city_pm2_5.reset_index(inplace=True)\n",
    "cities = avg_dayofweek_city_pm2_5.city.unique()\n",
    "\n",
    "fig, ax = plt.subplots(nrows=2, ncols=4, figsize=(16, 10), sharey=True)\n",
    "fig.delaxes(ax[1, 3])\n",
    "plt.suptitle('Średnie wartości stężenia PM2.5 (µm) w miastach dla poszczególnych dni tygodnia', fontsize=14)\n",
    "days = ['poniedziałek', 'wtorek', 'środę', 'czwartek', 'piątek', 'sobotę', 'niedzielę']\n",
    "\n",
    "for i in range(7):\n",
    "    x, y = divmod(i, 4)\n",
    "    colors = ['#ADD8E6', '#ADD8E6', '#ADD8E6', '#ADD8E6', '#ADD8E6']\n",
    "    means = avg_dayofweek_city_pm2_5.loc[avg_dayofweek_city_pm2_5.dayofweek == i, 'pm2_5']\n",
    "    colors[means.argmax()] = 'red'\n",
    "    colors[means.argmin()] = 'green'\n",
    "    ax[x, y].bar(\n",
    "        x=cities,\n",
    "        height=avg_dayofweek_city_pm2_5.loc[avg_dayofweek_city_pm2_5.dayofweek == i, 'pm2_5'],\n",
    "        width=0.5,\n",
    "        color=colors,\n",
    "        edgecolor='black',\n",
    "        linewidth=1.5,\n",
    "        alpha=1,\n",
    "    )\n",
    "    ax[x, y].set_xlabel('Miasta', fontsize=11)\n",
    "    ax[x, y].tick_params(axis='x', rotation=45)\n",
    "    if i % 4 == 0:\n",
    "        ax[x, y].set_ylabel('Wartość stężenia PM2.5 (\\u03BCm)', fontsize=11)\n",
    "    ax[x, y].set_title(f'Średnie stężenie PM2.5 w {days[i]}', fontsize=11)\n",
    "    ax[x, y].grid(axis='y', alpha=0.9)\n",
    "\n",
    "plt.tight_layout()\n",
    "fig.legend(title='Wartości:', handles=max_min_legend, bbox_to_anchor=(0.9, 0.3), ncol=1, fontsize=14, title_fontsize=14)\n",
    "plt.subplots_adjust(top=0.85, wspace=0.2, hspace=0.5)"
   ],
   "outputs": [],
   "execution_count": null
  },
  {
   "attachments": {},
   "cell_type": "markdown",
   "metadata": {},
   "source": [
    "##### ⭐ Zadanie 7:"
   ]
  },
  {
   "attachments": {},
   "cell_type": "markdown",
   "metadata": {},
   "source": [
    "Przygotuj wykres kolumnowy skumulowany (`bar`) opierając się na danych, które sam wybierzesz w sensowny sposób. Uwzględnij co najmniej 3 serie danych. Zapoznaj się z parametrem `bottom` oraz dobierz dla niego właściwą wartość mając na uwadze wizualizację określonej liczby serii danych jako składników sumy. Zadbaj o czytelność wykresu (tytuł wykresu, podpisy osi i podpis dla każdej kolumn oraz legenda). "
   ]
  },
  {
   "cell_type": "code",
   "metadata": {},
   "source": [
    "# tutaj wpisz swoje rozwiązanie"
   ],
   "outputs": [],
   "execution_count": null
  },
  {
   "attachments": {},
   "cell_type": "markdown",
   "metadata": {},
   "source": [
    "-------------------\n",
    "### Wykres kołowy"
   ]
  },
  {
   "attachments": {},
   "cell_type": "markdown",
   "metadata": {},
   "source": [
    "Wykres kołowy przedstawia zależność pomiędzy obiektami, które są częścią całości. Każdy wycinek koła reprezentuje część składową obiektu. Dobrym zwyczajem jest umieszczanie wycinków w kolejności rosnącej lub malejącej, a nie losowej."
   ]
  },
  {
   "attachments": {},
   "cell_type": "markdown",
   "metadata": {},
   "source": [
    "##### ⭐ Zadanie 8:"
   ]
  },
  {
   "attachments": {},
   "cell_type": "markdown",
   "metadata": {},
   "source": [
    "Przygotuj wykres kołowy (`pie`) opierając się na danych, które sam wybierzesz w sensowny sposób. Zapoznaj się z parametrami `normalize`, `explode` oraz `autopct`, `pctdistance`, `labels`, `labeldistance` i dobierz dla nich właściwe wartości, które wg. Ciebie najlepiej wizualizują dane. Zadbaj o czytelność wykresu (tytuł wykresu, podpis i wartość procentowa dla każdej części koła). "
   ]
  },
  {
   "cell_type": "code",
   "metadata": {},
   "source": [
    "counts = titanic.loc[titanic.Survived == 1, 'Sex'].value_counts()\n",
    "\n",
    "plt.pie(\n",
    "    x=counts, \n",
    "    explode=[0.05, 0.05],\n",
    "    labels=['kobiety', 'mężczyźni'], \n",
    "    colors=['#76c7c0', '#c79ecf'],\n",
    "    autopct='%1.1f%%',\n",
    "    textprops={'fontsize': 14},\n",
    "    radius=1.2,\n",
    "    startangle=90,\n",
    "    labeldistance=1.2,\n",
    "    wedgeprops={'edgecolor': 'black', 'linewidth': 2},\n",
    "    normalize=True,\n",
    "    pctdistance=0.5,\n",
    "    shadow=True,\n",
    ")\n",
    "plt.title('Przeżywalność na Titanicu według płci', fontsize=14)\n",
    "plt.tight_layout()"
   ],
   "outputs": [],
   "execution_count": null
  },
  {
   "attachments": {},
   "cell_type": "markdown",
   "metadata": {},
   "source": "##### ⭐ Zadanie 9:"
  },
  {
   "attachments": {},
   "cell_type": "markdown",
   "metadata": {},
   "source": [
    "Przygotuj wykres kołowy (`pie`) opierając się na danych, które sam wybierzesz w sensowny sposób. Zastosuj co najmniej 3 serie danych i podziel te informacje na osobne podwykresy (`subplot`) jednego obrazu. Zapoznaj się z obiektami `figure` i `axes`. Zadbaj o czytelność wykresu (tytuł obrazu i każdego wykresu, podpis i wartość procentowa dla każdej części koła). "
   ]
  },
  {
   "cell_type": "code",
   "metadata": {},
   "source": [
    "pclass_sex = titanic.groupby(['Pclass', 'Sex']).size().reset_index(name='Count')\n",
    "pclass_sex.reset_index(inplace=True, drop=True)\n",
    "\n",
    "fig, ax = plt.subplots(nrows=1, ncols=3, figsize=(14, 6))\n",
    "titles = ['I klasie', 'II klasie', 'III klasie']\n",
    "legend_elements = [\n",
    "    Patch(facecolor='#76c7c0', edgecolor='black', label='kobiety'), \n",
    "    Patch(facecolor='#c79ecf', edgecolor='black', label='mężczyźni')\n",
    "]\n",
    "fig.legend(title='Płeć', handles=legend_elements, loc='upper center', bbox_to_anchor=(0.5, 0.92), ncol=2, fontsize=14, title_fontsize=14)\n",
    "\n",
    "for i in range(3):\n",
    "    ax[i].pie(\n",
    "        x=pclass_sex.loc[pclass_sex.Pclass == i + 1, 'Count'], \n",
    "        explode=[0.05, 0.05],\n",
    "        colors=['#76c7c0', '#c79ecf'],\n",
    "        autopct='%1.1f%%',\n",
    "        textprops={'fontsize': 11},\n",
    "        radius=1,\n",
    "        startangle=90,\n",
    "        wedgeprops={'edgecolor': 'black', 'linewidth': 2},\n",
    "        normalize=True,\n",
    "        pctdistance=0.5,\n",
    "        shadow=True,\n",
    "    )\n",
    "    ax[i].set_title(f'Podział płci w {titles[i]}.', fontsize=11)\n",
    "\n",
    "plt.suptitle('Podział płci według klasy zakupionego biletu', fontsize=14)\n",
    "plt.subplots_adjust(wspace=0.3, hspace=0.2, top=0.85)"
   ],
   "outputs": [],
   "execution_count": null
  },
  {
   "cell_type": "markdown",
   "metadata": {},
   "source": [
    "--------------------\n",
    "### Wykres liniowy"
   ]
  },
  {
   "cell_type": "markdown",
   "metadata": {},
   "source": [
    "Wykres liniowy jest używany do wyświetlania ilościowych wartości w ciągłym okresie czasu. Idealnie sprawdza się do serii czasowej połączonej krzywą z co najmniej 10 danymi w każdej serii. Możliwe jest zaznaczenie kolejnych punktów na wykresie za pomocą znaczników. Co więcej, możliwe jest także wyłączenie samej linii, dzięki czemu tworzony jest wykres punktowy."
   ]
  },
  {
   "cell_type": "markdown",
   "metadata": {},
   "source": [
    "##### ⭐ Zadanie 10: "
   ]
  },
  {
   "cell_type": "markdown",
   "metadata": {},
   "source": [
    "Przygotuj wykres liniowy (`plot`) opierając się na danych, które sam wybierzesz w sensowny sposób. Zapoznaj się z funkcją `gca()` oraz ustawieniami `xaxis.grid` i `yaxis.grid`. Wykorzystaj je, żeby narysować linie pomocnicze dla wartości na wykresie. Zadbaj o czytelność wykresu (tytuł wykresu i podpisy osi). "
   ]
  },
  {
   "cell_type": "code",
   "metadata": {},
   "source": [
    "import matplotlib.dates as mdates\n",
    "\n",
    "\n",
    "avg_lagos_pm2_5 = zindi_air_qo.loc[zindi_air_qo.city == 'Lagos', ['date', 'pm2_5']].groupby('date').mean()\n",
    "\n",
    "plt.figure(figsize=(14, 6))\n",
    "plt.plot(\n",
    "    avg_lagos_pm2_5.index,\n",
    "    avg_lagos_pm2_5.pm2_5,\n",
    ")\n",
    "\n",
    "ax = plt.gca()\n",
    "ax.set_title('Wartość PM2.5 w Lagos od sierpnia 2023 do lutego 2024')\n",
    "ax.set_xlabel('Data')\n",
    "ax.set_ylabel('Wartość PM2.5 (\\u03BCm)')\n",
    "ax.xaxis.set_major_locator(mdates.MonthLocator())\n",
    "ax.yaxis.set_major_locator(plt.MultipleLocator(20))\n",
    "ax.yaxis.set_minor_locator(plt.MultipleLocator(10))\n",
    "\n",
    "ax.xaxis.grid(True, which='major', linestyle='-', linewidth=1.2, color='red')\n",
    "ax.yaxis.grid(True, which='major', linestyle='-', linewidth=1.2, color='black')\n",
    "ax.yaxis.grid(True, which='minor', linestyle=':', linewidth=0.75, color='black')"
   ],
   "outputs": [],
   "execution_count": null
  },
  {
   "cell_type": "markdown",
   "metadata": {},
   "source": [
    "##### ⭐ Zadanie 11:"
   ]
  },
  {
   "cell_type": "markdown",
   "metadata": {},
   "source": [
    "Przygotuj na jednym obiekcie `axes` wykres liniowy (`plot`) i wykres kolumnowy (`bar`) opierając się na danych, które sam wybierzesz w sensowny sposób. Zapoznaj się z parametrami `color`, `marker`, `markersize`, `linestyle` i `linewidth` oraz dobierz dla nich niestandardowe wartości. Zadbaj o czytelność wykresu (tytuł wykresu i podpisy osi). "
   ]
  },
  {
   "cell_type": "code",
   "metadata": {},
   "source": [
    "# tutaj wpisz swoje rozwiązanie"
   ],
   "outputs": [],
   "execution_count": null
  },
  {
   "cell_type": "markdown",
   "metadata": {},
   "source": [
    "##### ⭐ Zadanie 12:"
   ]
  },
  {
   "cell_type": "markdown",
   "metadata": {},
   "source": [
    "Przedstaw na jednym obiekcie `axes` wykres liniowy (`plot`) i wykres zamalowujący przestrzeń pomiędzy dwoma horyzontalnymi krzywymi (`fill_between`). Wykorzystaj dane, które sam wybierzesz w sensowny sposób. Na pierwszym wykresie przedstaw średnią wartość, a na drugim wykresie pokaż minimum i maksimum. Zadbaj o czytelność wykresu (tytuł wykresu i podpisy osi). "
   ]
  },
  {
   "cell_type": "code",
   "metadata": {},
   "source": [
    "# tutaj wpisz swoje rozwiązanie"
   ],
   "outputs": [],
   "execution_count": null
  },
  {
   "cell_type": "markdown",
   "metadata": {},
   "source": [
    "--------------------\n",
    "### Wykres bąbelkowy i punktowy"
   ]
  },
  {
   "cell_type": "markdown",
   "metadata": {},
   "source": [
    "Wykres bąbelkowy rozszerza wykres punktowy o trzecią wartość dla danej serii danych, która jest prezentowana za pomocą rozmiaru znacznika. Przy rosnącej\n",
    "liczbie zależności, konieczne jest umieszczenie dokładnego opisu wykresu razem z legendą."
   ]
  },
  {
   "cell_type": "markdown",
   "metadata": {},
   "source": [
    "##### ⭐ Zadanie 13:"
   ]
  },
  {
   "cell_type": "markdown",
   "metadata": {},
   "source": [
    "Przygotuj wykres bąbelkowy (`scatter`) opierając się na danych, które sam wybierzesz w sensowny sposób. Wykorzystaj rozmiary i kolory markerów do zaprezentowania większej liczby informacji. Zadbaj o czytelność wykresu (tytuł wykresu, podpisy osi i opis skali koloru). "
   ]
  },
  {
   "cell_type": "code",
   "metadata": {},
   "source": "# tutaj wpisz swoje rozwiązanie",
   "outputs": [],
   "execution_count": null
  },
  {
   "cell_type": "markdown",
   "metadata": {},
   "source": [
    "##### ⭐ Zadanie 14:"
   ]
  },
  {
   "cell_type": "markdown",
   "metadata": {},
   "source": [
    "Czy wszystkie informacje z zadania 13 można przedstawić za pomocą wykresu punktowego stworzonego jako wykres liniowy (`plot`) bez linii? Jeżeli tak, wykonaj taki wykres. Jeżeli nie, zdecyduj, które dane są najmniej istotne i zrezygnuj z nich przy wykonywaniu takiego wykresu. Zadbaj o czytelność wykresu (tytuł wykresu i podpisy osi). Do swojego rozwiązania dodaj dowolną animację."
   ]
  },
  {
   "cell_type": "code",
   "metadata": {},
   "source": [
    "# tutaj wpisz swoje rozwiązanie"
   ],
   "outputs": [],
   "execution_count": null
  },
  {
   "cell_type": "markdown",
   "metadata": {},
   "source": [
    "-------------------\n",
    "### Mapa ciepła"
   ]
  },
  {
   "cell_type": "markdown",
   "metadata": {},
   "source": [
    "Mapa ciepła to wizualizacja wielowymiarowa, która wykorzystywana jest do znajdowania wzorców w danych. Dwie kategorie danych umieszczone są w wierszach i kolumnach. Wartości zawarte w macierzy są reprezentowane przez kolory lub nasycenie kolorów, dzięki czemu jawnie odzwierciedlają zależności pomiędzy kategoriami. "
   ]
  },
  {
   "cell_type": "markdown",
   "metadata": {},
   "source": [
    "##### ⭐ Zadanie 15:"
   ]
  },
  {
   "cell_type": "markdown",
   "metadata": {},
   "source": [
    "Przygotuj mapę ciepła (`imshow`, `pcolormesh`) opierając się na danych, które sam wybierzesz w sensowny sposób. Zapoznaj się z dwiema metodami rysowania map ciepła i zdecyduj, która będzie lepsza w twoim rozwiązaniu. Zadbaj o czytelność wykresu (tytuł wykresu, podpisy osi i opis skali koloru). "
   ]
  },
  {
   "cell_type": "code",
   "metadata": {},
   "source": [
    "location_map = {loc: idx for idx, loc in enumerate(['S', 'C', 'Q'])}\n",
    "titanic.Embarked = titanic.Embarked.map(location_map)\n",
    "correlation_mat = titanic.corr(numeric_only=True)\n",
    "\n",
    "plt.imshow(\n",
    "    X=correlation_mat,\n",
    "    cmap='YlGn',\n",
    "    vmax=1,\n",
    "    vmin=-1,\n",
    ")\n",
    "plt.colorbar(label='Wartość korelacji')\n",
    "plt.xticks(ticks=np.arange(len(correlation_mat.columns)), labels=correlation_mat.columns, rotation=45)\n",
    "plt.yticks(ticks=np.arange(len(correlation_mat.columns)), labels=correlation_mat.columns)\n",
    "plt.title('Macierz korelacji dla zbioru Titanic')\n",
    "\n",
    "for i in range(len(correlation_mat.columns)):\n",
    "    for j in range(len(correlation_mat.columns)):\n",
    "        text = f'{correlation_mat.iloc[i, j]:.2f}'\n",
    "        plt.text(j, i, text, ha='center', va='center', color='black', fontsize=10)"
   ],
   "outputs": [],
   "execution_count": null
  },
  {
   "metadata": {},
   "cell_type": "code",
   "source": "titanic",
   "outputs": [],
   "execution_count": null
  },
  {
   "cell_type": "markdown",
   "metadata": {},
   "source": [
    "-------------------\n",
    "### Wykres radarowy"
   ]
  },
  {
   "cell_type": "markdown",
   "metadata": {},
   "source": [
    "Wykres radarowy przedstawia wiele zmiennych o tej samej skali w formie pojedynczego wielokąta zamkniętego umieszczonego na okręgu. Wierzchołki figury są ułożone zgodnie z wartościami dla kolejnych kategorii."
   ]
  },
  {
   "cell_type": "markdown",
   "metadata": {},
   "source": [
    "##### ⭐ Zadanie 16:"
   ]
  },
  {
   "cell_type": "markdown",
   "metadata": {},
   "source": [
    "Przygotuj wykres radarowy (`polar`) opierając się na danych, które sam wybierzesz w sensowny sposób. Zadbaj o czytelność wykresu (tytuł wykresu i podpisy osi). "
   ]
  },
  {
   "cell_type": "code",
   "metadata": {},
   "source": [
    "# tutaj wpisz swoje rozwiązanie"
   ],
   "outputs": [],
   "execution_count": null
  }
 ],
 "metadata": {
  "kernelspec": {
   "display_name": "base",
   "language": "python",
   "name": "python3"
  },
  "language_info": {
   "codemirror_mode": {
    "name": "ipython",
    "version": 3
   },
   "file_extension": ".py",
   "mimetype": "text/x-python",
   "name": "python",
   "nbconvert_exporter": "python",
   "pygments_lexer": "ipython3",
   "version": "3.10.9"
  },
  "orig_nbformat": 4,
  "vscode": {
   "interpreter": {
    "hash": "abb5ff44d1adcbfa6557a3b916d3f2441d0d0bdfe9fde7d35b60287fdececf3d"
   }
  }
 },
 "nbformat": 4,
 "nbformat_minor": 2
}
