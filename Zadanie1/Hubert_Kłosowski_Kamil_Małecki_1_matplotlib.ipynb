{
 "cells": [
  {
   "attachments": {},
   "cell_type": "markdown",
   "metadata": {},
   "source": [
    "# Biblioteka Matplotlib"
   ]
  },
  {
   "attachments": {},
   "cell_type": "markdown",
   "metadata": {},
   "source": [
    "Matplotlib to kompleksowa biblioteka służąca to tworzenia statycznych i animowanych wizualizacji w Pythonie. Umożliwia dostosowanie wykresów pod dowolne wymagania i zapisanie ich w wysokiej jakości."
   ]
  },
  {
   "cell_type": "code",
   "metadata": {},
   "source": [
    "import matplotlib.pyplot as plt\n",
    "import numpy as np\n",
    "import pandas as pd\n",
    "from matplotlib.colors import LogNorm\n",
    "from matplotlib.patches import Patch\n",
    "\n",
    "athlete_events = pd.read_csv('athlete_events.csv', sep=';')\n",
    "\n",
    "athlete_events.info()"
   ],
   "outputs": [],
   "execution_count": null
  },
  {
   "metadata": {},
   "cell_type": "code",
   "source": "athlete_events.describe()",
   "outputs": [],
   "execution_count": null
  },
  {
   "metadata": {},
   "cell_type": "code",
   "source": "athlete_events.head()",
   "outputs": [],
   "execution_count": null
  },
  {
   "attachments": {},
   "cell_type": "markdown",
   "metadata": {},
   "source": [
    "--------------------\n",
    "### Histogram"
   ]
  },
  {
   "attachments": {},
   "cell_type": "markdown",
   "metadata": {},
   "source": [
    "Histogram przedstawia rozłożenie różnych wartości w danej kategorii. Jego wygląd jest podobny do wykresu kolumnowego, jednak jego zastosowanie jest zupełnie inne i wykresy te nie powinny być ze sobą mylone."
   ]
  },
  {
   "attachments": {},
   "cell_type": "markdown",
   "metadata": {},
   "source": [
    "##### ⭐ Zadanie 1: "
   ]
  },
  {
   "attachments": {},
   "cell_type": "markdown",
   "metadata": {},
   "source": [
    "Przygotuj histogram (`hist`) opierając się na danych, które sam wybierzesz w sensowny sposób. Zapoznaj się z parametrami `bins` i `range` oraz dobierz dla nich takie wartości, które wg. Ciebie najlepiej wizualizują dane. Dodatkowo, zapoznaj się z parametrem `density`. Zadbaj o czytelność wykresu (tytuł wykresu oraz podpisy osi). "
   ]
  },
  {
   "cell_type": "code",
   "metadata": {},
   "source": [
    "n, bins, patches = plt.hist(athlete_events.Age, color='blue', edgecolor='black', linewidth=1, bins=20, range=(0, 100), alpha=1)\n",
    "for i, patch in enumerate(patches):\n",
    "    if bins[i] <= 18:\n",
    "        patch.set_facecolor('green')\n",
    "    elif 19 <= bins[i] <= 34:\n",
    "        patch.set_facecolor('yellow')\n",
    "    elif 35 <= bins[i] <= 60:\n",
    "        patch.set_facecolor('orange')\n",
    "    else:\n",
    "        patch.set_facecolor('grey')\n",
    "\n",
    "plt.legend(title='Grupy wiekowe', handles=[patches[0], patches[5], patches[10], patches[15]], labels=['niepełnoletni', 'młodzi dorośli', 'dorośli', 'seniorzy'])\n",
    "plt.grid(axis='y')\n",
    "plt.xlabel('Wiek sportowca')\n",
    "plt.ylabel('Liczebność (skala logarytmiczna)')\n",
    "plt.xticks(range(0, 101, 10))\n",
    "plt.yscale('log')\n",
    "plt.title('Rozkład wieku wszystkich sportowców', fontsize=14)\n",
    "plt.show()"
   ],
   "outputs": [],
   "execution_count": null
  },
  {
   "attachments": {},
   "cell_type": "markdown",
   "metadata": {},
   "source": [
    "##### ⭐ Zadanie 2:"
   ]
  },
  {
   "attachments": {},
   "cell_type": "markdown",
   "metadata": {},
   "source": [
    "Przygotuj dwuwymiarowy histogram (`hist2d`) opierając się na danych, które sam wybierzesz w sensowny sposób. Zadbaj o czytelność wykresu (tytuł wykresu, podpisy osi oraz legenda). "
   ]
  },
  {
   "cell_type": "code",
   "metadata": {},
   "source": [
    "weight_height = athlete_events.loc[(athlete_events.Sport == 'Swimming') & athlete_events.Weight.notna() & athlete_events.Height.notna(), ['Weight', 'Height']]\n",
    "\n",
    "plt.hist2d(weight_height.Weight, weight_height.Height, bins=(8, 20), cmap='plasma', norm=LogNorm())\n",
    "plt.colorbar(label='Liczba pływaków')\n",
    "plt.xlabel('Waga pływaka (kg)')\n",
    "plt.ylabel('Wzrost pływaka (cm)')\n",
    "plt.grid(True, linestyle=\"--\", alpha=0.5)\n",
    "plt.title('Zależność wagi do wzrostu pływaków', fontsize=14)"
   ],
   "outputs": [],
   "execution_count": null
  },
  {
   "attachments": {},
   "cell_type": "markdown",
   "metadata": {},
   "source": [
    "##### ⭐ Zadanie 3:"
   ]
  },
  {
   "attachments": {},
   "cell_type": "markdown",
   "metadata": {},
   "source": [
    "Przygotuj dwuwymiarowy histogram z heksagonami (`hexbin`) opierając się na danych, które sam wybierzesz w sensowny sposób. Zapoznaj się z parametrem `gridsize` oraz dobierz dla niego taką wartość, która wg. Ciebie najlepiej wizualizuje dane. Zadbaj o czytelność wykresu (tytuł wykresu, podpisy osi oraz legenda). "
   ]
  },
  {
   "cell_type": "code",
   "metadata": {},
   "source": [
    "plt.hexbin(weight_height.Weight, weight_height.Height, gridsize=15, cmap='plasma', norm=LogNorm())\n",
    "\n",
    "plt.colorbar(label='Liczba pływaków')\n",
    "plt.xlabel('Waga pływaka (kg)')\n",
    "plt.ylabel('Wzrost pływaka (cm)')\n",
    "plt.grid(True, linestyle=\"--\", alpha=0.5)\n",
    "plt.title('Zależność wagi do wzrostu pływaków', fontsize=14)"
   ],
   "outputs": [],
   "execution_count": null
  },
  {
   "attachments": {},
   "cell_type": "markdown",
   "metadata": {},
   "source": [
    "-------------------\n",
    "### Wykres słupkowy i kolumnowy (skumulowany) "
   ]
  },
  {
   "attachments": {},
   "cell_type": "markdown",
   "metadata": {},
   "source": [
    "Wykres kolumnowy i wykres słupkowy pokazuje jawne wartości dla pojedynczej lub dla wielu serii danych. Oś z wartościami liczbowymi powinna zaczynać się od 0, żeby uniknąć ukrytego przeskoku, który może dawać mylne złudzenie. Podpisy danych muszą być czytelne, zatem często są one umieszczone prostopadle do kolumn / słupków. <br/><br/>\n",
    "Wykres kolumnowy lub słupkowy skumulowany dodatkowo rozróżnia kolejne serie danych, które są składnikami sumy końcowej dla wyświetlanych wartości. Serie danych najczęściej są rozróżniane kolorem, zatem do ich zrozumienia potrzebna jest legenda. "
   ]
  },
  {
   "attachments": {},
   "cell_type": "markdown",
   "metadata": {},
   "source": [
    "##### ⭐ Zadanie 4:"
   ]
  },
  {
   "attachments": {},
   "cell_type": "markdown",
   "metadata": {},
   "source": "Przygotuj wykres kolumnowy (`bar`) opierając się na danych, które sam wybierzesz w sensowny sposób. Zapoznaj się z parametrem `tick_label` i ustawieniami `xticks` oraz dobierz dla nich takie wartości, które wg. Ciebie najlepiej wizualizują dane. Zadbaj o czytelność wykresu (tytuł wykresu, podpisy osi oraz podpis dla każdej kolumny)."
  },
  {
   "metadata": {},
   "cell_type": "code",
   "source": [
    "neighbors = ['POL', 'CZE', 'SVK', 'UKR', 'BLR', 'RUS', 'GER', 'LTU']\n",
    "full_name = ['Polska', 'Czechy', 'Słowacja', 'Ukraina', 'Białoruś', 'Rosja', 'Niemcy', 'Litwa']\n",
    "medals = athlete_events.loc[(athlete_events.NOC.isin(neighbors)) & (athlete_events.Year > 2000) & (athlete_events.Medal.notna()), ['NOC']].groupby(['NOC']).size().reset_index(name='Count')\n",
    "\n",
    "colors = ['#ADD8E6' for _ in range(len(medals))]\n",
    "colors[medals.Count.argmax()] = 'red'\n",
    "colors[medals.Count.argmin()] = 'green'\n",
    "\n",
    "plt.bar(\n",
    "    x=medals.NOC,\n",
    "    height=medals.Count,\n",
    "    tick_label=full_name,\n",
    "    color=colors,\n",
    "    width=0.5,\n",
    "    edgecolor='black',\n",
    "    linewidth=1.5,\n",
    "    alpha=1,\n",
    ")\n",
    "plt.xticks(rotation=45)\n",
    "plt.grid(axis='y', alpha=0.9)\n",
    "plt.xlabel('Nazwa kraju')\n",
    "plt.ylabel('Liczba medali')\n",
    "plt.yticks(range(0, 801, 50))\n",
    "plt.title('Liczba medali Polski i jej sąsiadów od 2000r.', fontsize=14)"
   ],
   "outputs": [],
   "execution_count": null
  },
  {
   "attachments": {},
   "cell_type": "markdown",
   "metadata": {},
   "source": [
    "##### ⭐ Zadanie 5:"
   ]
  },
  {
   "attachments": {},
   "cell_type": "markdown",
   "metadata": {},
   "source": [
    "Przygotuj wykres słupkowy (`barh`) opierając się na danych, które sam wybierzesz w sensowny sposób. Zapoznaj się z funkcją `gca()` oraz ustawieniami `set_yticks` i `set_yticklabels`. Wykorzystaj je, żeby wyeliminować niestandardowe odstępy pomiędzy danymi. Zadbaj o czytelność wykresu (tytuł wykresu, podpisy osi oraz podpis dla każdego słupka). "
   ]
  },
  {
   "cell_type": "code",
   "metadata": {},
   "source": [
    "top_10_winter_sports = athlete_events.loc[athlete_events.Season == 'Winter', 'Sport'].value_counts().head(10)\n",
    "\n",
    "plt.figure(figsize=(10, 5))\n",
    "plt.barh(\n",
    "    y=top_10_winter_sports.index,\n",
    "    width=top_10_winter_sports,\n",
    "    height=0.5,\n",
    "    edgecolor='black',\n",
    "    linewidth=1.5,\n",
    "    alpha=1,\n",
    ")\n",
    "plt.grid(axis='x', alpha=0.9)\n",
    "plt.title('Top 10 zimowych dyscyplin pod względem liczby sportowców', fontsize=14)\n",
    "plt.ylabel('Nazwa dyscypliny')\n",
    "plt.xlabel('Liczba sportowców')\n",
    "\n",
    "# ax = plt.gca()\n",
    "# ax.set_yticks(range(0, 10001, 1000))"
   ],
   "outputs": [],
   "execution_count": null
  },
  {
   "attachments": {},
   "cell_type": "markdown",
   "metadata": {},
   "source": [
    "##### ⭐ Zadanie 6:"
   ]
  },
  {
   "attachments": {},
   "cell_type": "markdown",
   "metadata": {},
   "source": [
    "Przygotuj wykres kolumnowy (`bar`) opierając się na danych, które sam wybierzesz w sensowny sposób. Uwzględnij co najmniej 3 serie danych. Zapoznaj się z parametrem `width` oraz dobierz dla niego właściwą wartość mając na uwadze wizualizację określonej liczby serii danych. Zadbaj o czytelność wykresu (tytuł wykresu, podpisy osi i podpis dla każdej grupy kolumn oraz legenda). "
   ]
  },
  {
   "cell_type": "code",
   "metadata": {},
   "source": "# tutaj wpisz swoje rozwiązanie",
   "outputs": [],
   "execution_count": null
  },
  {
   "attachments": {},
   "cell_type": "markdown",
   "metadata": {},
   "source": [
    "##### ⭐ Zadanie 7:"
   ]
  },
  {
   "attachments": {},
   "cell_type": "markdown",
   "metadata": {},
   "source": [
    "Przygotuj wykres kolumnowy skumulowany (`bar`) opierając się na danych, które sam wybierzesz w sensowny sposób. Uwzględnij co najmniej 3 serie danych. Zapoznaj się z parametrem `bottom` oraz dobierz dla niego właściwą wartość mając na uwadze wizualizację określonej liczby serii danych jako składników sumy. Zadbaj o czytelność wykresu (tytuł wykresu, podpisy osi i podpis dla każdej kolumn oraz legenda). "
   ]
  },
  {
   "cell_type": "code",
   "metadata": {},
   "source": [
    "neighbors = ['POL', 'CZE', 'SVK', 'UKR', 'BLR', 'RUS', 'GER']\n",
    "medals = athlete_events.loc[(athlete_events.NOC.isin(neighbors)) & (athlete_events.Year > 2000), ['NOC', 'Medal']].fillna('None')\n",
    "medals = medals.groupby(['NOC', 'Medal']).size().reset_index(name='Count')"
   ],
   "outputs": [],
   "execution_count": null
  },
  {
   "attachments": {},
   "cell_type": "markdown",
   "metadata": {},
   "source": [
    "-------------------\n",
    "### Wykres kołowy"
   ]
  },
  {
   "attachments": {},
   "cell_type": "markdown",
   "metadata": {},
   "source": [
    "Wykres kołowy przedstawia zależność pomiędzy obiektami, które są częścią całości. Każdy wycinek koła reprezentuje część składową obiektu. Dobrym zwyczajem jest umieszczanie wycinków w kolejności rosnącej lub malejącej, a nie losowej."
   ]
  },
  {
   "attachments": {},
   "cell_type": "markdown",
   "metadata": {},
   "source": [
    "##### ⭐ Zadanie 8:"
   ]
  },
  {
   "attachments": {},
   "cell_type": "markdown",
   "metadata": {},
   "source": [
    "Przygotuj wykres kołowy (`pie`) opierając się na danych, które sam wybierzesz w sensowny sposób. Zapoznaj się z parametrami `normalize`, `explode` oraz `autopct`, `pctdistance`, `labels`, `labeldistance` i dobierz dla nich właściwe wartości, które wg. Ciebie najlepiej wizualizują dane. Zadbaj o czytelność wykresu (tytuł wykresu, podpis i wartość procentowa dla każdej części koła). "
   ]
  },
  {
   "cell_type": "code",
   "metadata": {},
   "source": [
    "counts = athlete_events.loc[athlete_events.Season == 'Summer', 'Sex'].value_counts()\n",
    "counts['mężczyźni'] = counts.pop('M')\n",
    "counts['kobiety'] = counts.pop('F')\n",
    "\n",
    "plt.pie(\n",
    "    x=counts,\n",
    "    explode=[0.05, 0.05],\n",
    "    labels=counts.index,\n",
    "    colors=['#c79ecf', '#76c7c0'],\n",
    "    autopct='%1.1f%%',\n",
    "    textprops={'fontsize': 14},\n",
    "    radius=1,\n",
    "    startangle=90,\n",
    "    labeldistance=1.2,\n",
    "    wedgeprops={'edgecolor': 'black', 'linewidth': 2},\n",
    "    normalize=True,\n",
    "    pctdistance=0.5,\n",
    "    shadow=True,\n",
    ")\n",
    "plt.title('Liczebność kobiet i mężczyzn w igrzyskach letnich', fontsize=14)\n",
    "plt.tight_layout()"
   ],
   "outputs": [],
   "execution_count": null
  },
  {
   "attachments": {},
   "cell_type": "markdown",
   "metadata": {},
   "source": "##### ⭐ Zadanie 9:"
  },
  {
   "attachments": {},
   "cell_type": "markdown",
   "metadata": {},
   "source": [
    "Przygotuj wykres kołowy (`pie`) opierając się na danych, które sam wybierzesz w sensowny sposób. Zastosuj co najmniej 3 serie danych i podziel te informacje na osobne podwykresy (`subplot`) jednego obrazu. Zapoznaj się z obiektami `figure` i `axes`. Zadbaj o czytelność wykresu (tytuł obrazu i każdego wykresu, podpis i wartość procentowa dla każdej części koła). "
   ]
  },
  {
   "cell_type": "code",
   "metadata": {},
   "source": [
    "last_four_summer_olympics = athlete_events.loc[(athlete_events.Year > 2000) & (athlete_events.Season == 'Summer'), ['Year', 'Sex']].groupby(['Year', 'Sex']).size().reset_index(name='Count')\n",
    "\n",
    "fig, ax = plt.subplots(nrows=2, ncols=2, figsize=(14, 6))\n",
    "titles = ['Ateny 2004', 'Pekin 2008', 'Londyn 2012', 'Rio 2016']\n",
    "legend_elements = [\n",
    "    Patch(facecolor='#76c7c0', edgecolor='black', label='kobiety'),\n",
    "    Patch(facecolor='#c79ecf', edgecolor='black', label='mężczyźni')\n",
    "]\n",
    "fig.legend(title='Płeć', handles=legend_elements, loc='upper center', bbox_to_anchor=(0.5, 0.6), ncol=1, fontsize=14, title_fontsize=14)\n",
    "\n",
    "for i in range(4):\n",
    "    x, y = divmod(i, 2)\n",
    "    ax[x, y].pie(\n",
    "        x=last_four_summer_olympics.loc[last_four_summer_olympics.Year == 2004 + i * 4, 'Count'],\n",
    "        explode=[0.05, 0.05],\n",
    "        colors=['#76c7c0', '#c79ecf'],\n",
    "        autopct='%1.1f%%',\n",
    "        textprops={'fontsize': 11},\n",
    "        radius=1,\n",
    "        startangle=90,\n",
    "        wedgeprops={'edgecolor': 'black', 'linewidth': 2},\n",
    "        normalize=True,\n",
    "        pctdistance=0.5,\n",
    "        shadow=True,\n",
    "    )\n",
    "    ax[x, y].set_title(f'Podział płci podczas igrzysk w {titles[i]}', fontsize=11)\n",
    "\n",
    "plt.suptitle('Podział płci na czterech letnich igrzyskach 2004–2016', fontsize=14)\n",
    "plt.subplots_adjust(wspace=0.3, hspace=0.2, top=0.85)"
   ],
   "outputs": [],
   "execution_count": null
  },
  {
   "cell_type": "markdown",
   "metadata": {},
   "source": [
    "--------------------\n",
    "### Wykres liniowy"
   ]
  },
  {
   "cell_type": "markdown",
   "metadata": {},
   "source": [
    "Wykres liniowy jest używany do wyświetlania ilościowych wartości w ciągłym okresie czasu. Idealnie sprawdza się do serii czasowej połączonej krzywą z co najmniej 10 danymi w każdej serii. Możliwe jest zaznaczenie kolejnych punktów na wykresie za pomocą znaczników. Co więcej, możliwe jest także wyłączenie samej linii, dzięki czemu tworzony jest wykres punktowy."
   ]
  },
  {
   "cell_type": "markdown",
   "metadata": {},
   "source": [
    "##### ⭐ Zadanie 10: "
   ]
  },
  {
   "cell_type": "markdown",
   "metadata": {},
   "source": [
    "Przygotuj wykres liniowy (`plot`) opierając się na danych, które sam wybierzesz w sensowny sposób. Zapoznaj się z funkcją `gca()` oraz ustawieniami `xaxis.grid` i `yaxis.grid`. Wykorzystaj je, żeby narysować linie pomocnicze dla wartości na wykresie. Zadbaj o czytelność wykresu (tytuł wykresu i podpisy osi). "
   ]
  },
  {
   "cell_type": "code",
   "metadata": {},
   "source": "# tutaj wpisz swoje rozwiązanie",
   "outputs": [],
   "execution_count": null
  },
  {
   "cell_type": "markdown",
   "metadata": {},
   "source": [
    "##### ⭐ Zadanie 11:"
   ]
  },
  {
   "cell_type": "markdown",
   "metadata": {},
   "source": [
    "Przygotuj na jednym obiekcie `axes` wykres liniowy (`plot`) i wykres kolumnowy (`bar`) opierając się na danych, które sam wybierzesz w sensowny sposób. Zapoznaj się z parametrami `color`, `marker`, `markersize`, `linestyle` i `linewidth` oraz dobierz dla nich niestandardowe wartości. Zadbaj o czytelność wykresu (tytuł wykresu i podpisy osi). "
   ]
  },
  {
   "cell_type": "code",
   "metadata": {},
   "source": [
    "# tutaj wpisz swoje rozwiązanie"
   ],
   "outputs": [],
   "execution_count": null
  },
  {
   "cell_type": "markdown",
   "metadata": {},
   "source": [
    "##### ⭐ Zadanie 12:"
   ]
  },
  {
   "cell_type": "markdown",
   "metadata": {},
   "source": [
    "Przedstaw na jednym obiekcie `axes` wykres liniowy (`plot`) i wykres zamalowujący przestrzeń pomiędzy dwoma horyzontalnymi krzywymi (`fill_between`). Wykorzystaj dane, które sam wybierzesz w sensowny sposób. Na pierwszym wykresie przedstaw średnią wartość, a na drugim wykresie pokaż minimum i maksimum. Zadbaj o czytelność wykresu (tytuł wykresu i podpisy osi). "
   ]
  },
  {
   "cell_type": "code",
   "metadata": {},
   "source": [
    "# tutaj wpisz swoje rozwiązanie"
   ],
   "outputs": [],
   "execution_count": null
  },
  {
   "cell_type": "markdown",
   "metadata": {},
   "source": [
    "--------------------\n",
    "### Wykres bąbelkowy i punktowy"
   ]
  },
  {
   "cell_type": "markdown",
   "metadata": {},
   "source": [
    "Wykres bąbelkowy rozszerza wykres punktowy o trzecią wartość dla danej serii danych, która jest prezentowana za pomocą rozmiaru znacznika. Przy rosnącej\n",
    "liczbie zależności, konieczne jest umieszczenie dokładnego opisu wykresu razem z legendą."
   ]
  },
  {
   "cell_type": "markdown",
   "metadata": {},
   "source": [
    "##### ⭐ Zadanie 13:"
   ]
  },
  {
   "cell_type": "markdown",
   "metadata": {},
   "source": [
    "Przygotuj wykres bąbelkowy (`scatter`) opierając się na danych, które sam wybierzesz w sensowny sposób. Wykorzystaj rozmiary i kolory markerów do zaprezentowania większej liczby informacji. Zadbaj o czytelność wykresu (tytuł wykresu, podpisy osi i opis skali koloru). "
   ]
  },
  {
   "cell_type": "code",
   "metadata": {},
   "source": "# tutaj wpisz swoje rozwiązanie",
   "outputs": [],
   "execution_count": null
  },
  {
   "cell_type": "markdown",
   "metadata": {},
   "source": [
    "##### ⭐ Zadanie 14:"
   ]
  },
  {
   "cell_type": "markdown",
   "metadata": {},
   "source": [
    "Czy wszystkie informacje z zadania 13 można przedstawić za pomocą wykresu punktowego stworzonego jako wykres liniowy (`plot`) bez linii? Jeżeli tak, wykonaj taki wykres. Jeżeli nie, zdecyduj, które dane są najmniej istotne i zrezygnuj z nich przy wykonywaniu takiego wykresu. Zadbaj o czytelność wykresu (tytuł wykresu i podpisy osi). Do swojego rozwiązania dodaj dowolną animację."
   ]
  },
  {
   "cell_type": "code",
   "metadata": {},
   "source": [
    "# tutaj wpisz swoje rozwiązanie"
   ],
   "outputs": [],
   "execution_count": null
  },
  {
   "cell_type": "markdown",
   "metadata": {},
   "source": [
    "-------------------\n",
    "### Mapa ciepła"
   ]
  },
  {
   "cell_type": "markdown",
   "metadata": {},
   "source": [
    "Mapa ciepła to wizualizacja wielowymiarowa, która wykorzystywana jest do znajdowania wzorców w danych. Dwie kategorie danych umieszczone są w wierszach i kolumnach. Wartości zawarte w macierzy są reprezentowane przez kolory lub nasycenie kolorów, dzięki czemu jawnie odzwierciedlają zależności pomiędzy kategoriami. "
   ]
  },
  {
   "cell_type": "markdown",
   "metadata": {},
   "source": [
    "##### ⭐ Zadanie 15:"
   ]
  },
  {
   "cell_type": "markdown",
   "metadata": {},
   "source": [
    "Przygotuj mapę ciepła (`imshow`, `pcolormesh`) opierając się na danych, które sam wybierzesz w sensowny sposób. Zapoznaj się z dwiema metodami rysowania map ciepła i zdecyduj, która będzie lepsza w twoim rozwiązaniu. Zadbaj o czytelność wykresu (tytuł wykresu, podpisy osi i opis skali koloru). "
   ]
  },
  {
   "cell_type": "code",
   "metadata": {},
   "source": [
    "correlation_mat = athlete_events[athlete_events.columns[1:]].corr(numeric_only=True)\n",
    "\n",
    "plt.imshow(\n",
    "    X=correlation_mat,\n",
    "    cmap='Greys',\n",
    "    vmax=1,\n",
    "    vmin=-1,\n",
    ")\n",
    "plt.colorbar(label='Wartość korelacji')\n",
    "plt.xticks(ticks=np.arange(len(correlation_mat.columns)), labels=correlation_mat.columns, rotation=45)\n",
    "plt.yticks(ticks=np.arange(len(correlation_mat.columns)), labels=correlation_mat.columns)\n",
    "plt.title('Macierz korelacji dla zbioru sportowców')\n",
    "\n",
    "for i in range(len(correlation_mat.columns)):\n",
    "    for j in range(len(correlation_mat.columns)):\n",
    "        text = f'{correlation_mat.iloc[i, j]:.2f}'\n",
    "        plt.text(j, i, text, ha='center', va='center', color='black', fontsize=10)"
   ],
   "outputs": [],
   "execution_count": null
  },
  {
   "cell_type": "markdown",
   "metadata": {},
   "source": [
    "-------------------\n",
    "### Wykres radarowy"
   ]
  },
  {
   "cell_type": "markdown",
   "metadata": {},
   "source": [
    "Wykres radarowy przedstawia wiele zmiennych o tej samej skali w formie pojedynczego wielokąta zamkniętego umieszczonego na okręgu. Wierzchołki figury są ułożone zgodnie z wartościami dla kolejnych kategorii."
   ]
  },
  {
   "cell_type": "markdown",
   "metadata": {},
   "source": [
    "##### ⭐ Zadanie 16:"
   ]
  },
  {
   "cell_type": "markdown",
   "metadata": {},
   "source": [
    "Przygotuj wykres radarowy (`polar`) opierając się na danych, które sam wybierzesz w sensowny sposób. Zadbaj o czytelność wykresu (tytuł wykresu i podpisy osi). "
   ]
  },
  {
   "cell_type": "code",
   "metadata": {},
   "source": [
    "# tutaj wpisz swoje rozwiązanie"
   ],
   "outputs": [],
   "execution_count": null
  }
 ],
 "metadata": {
  "kernelspec": {
   "display_name": "base",
   "language": "python",
   "name": "python3"
  },
  "language_info": {
   "codemirror_mode": {
    "name": "ipython",
    "version": 3
   },
   "file_extension": ".py",
   "mimetype": "text/x-python",
   "name": "python",
   "nbconvert_exporter": "python",
   "pygments_lexer": "ipython3",
   "version": "3.10.9"
  },
  "orig_nbformat": 4,
  "vscode": {
   "interpreter": {
    "hash": "abb5ff44d1adcbfa6557a3b916d3f2441d0d0bdfe9fde7d35b60287fdececf3d"
   }
  }
 },
 "nbformat": 4,
 "nbformat_minor": 2
}
